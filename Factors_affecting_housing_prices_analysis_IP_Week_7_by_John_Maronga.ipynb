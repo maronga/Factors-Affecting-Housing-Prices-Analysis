{
  "nbformat": 4,
  "nbformat_minor": 0,
  "metadata": {
    "colab": {
      "name": "Factors_affecting_housing_prices_analysis_IP_Week_7_by_John_Maronga.ipynb",
      "provenance": [],
      "collapsed_sections": [
        "vTbdjSrhVIiT",
        "lQ2G4ZPDVOXE",
        "xrmHVMVsVS--",
        "HPQviDmNtta8",
        "qjFHK1CKty7o",
        "HSsicSdvt4Zs"
      ],
      "include_colab_link": true
    },
    "kernelspec": {
      "name": "python3",
      "display_name": "Python 3"
    }
  },
  "cells": [
    {
      "cell_type": "markdown",
      "metadata": {
        "id": "view-in-github",
        "colab_type": "text"
      },
      "source": [
        "<a href=\"https://colab.research.google.com/github/maronga/Factors-Affecting-Housing-Prices-Analysis/blob/main/Factors_affecting_housing_prices_analysis_IP_Week_7_by_John_Maronga.ipynb\" target=\"_parent\"><img src=\"https://colab.research.google.com/assets/colab-badge.svg\" alt=\"Open In Colab\"/></a>"
      ]
    },
    {
      "cell_type": "markdown",
      "metadata": {
        "id": "xMxtPsqcTsSH"
      },
      "source": [
        "# Independent Project - Week 7\n"
      ]
    },
    {
      "cell_type": "markdown",
      "metadata": {
        "id": "kLG2VTrnTvYL"
      },
      "source": [
        "## 1. Defining the Question"
      ]
    },
    {
      "cell_type": "markdown",
      "metadata": {
        "id": "XecOwPNorl2W"
      },
      "source": [
        "### a) Specifying the Question"
      ]
    },
    {
      "cell_type": "markdown",
      "metadata": {
        "id": "8l3-hBO6bODP"
      },
      "source": [
        "To study the factors that affect housing prices and creating a model that would allow the company to accurately predict the sale prices.\n",
        "\n"
      ]
    },
    {
      "cell_type": "markdown",
      "metadata": {
        "id": "J4wfHZwQrs-t"
      },
      "source": [
        "### b) Defining the Metric for Success"
      ]
    },
    {
      "cell_type": "markdown",
      "metadata": {
        "id": "YOGeAWMhr4ZO"
      },
      "source": [
        "Create a model that would allow the company to accurately predict the sale of prices upon being provided with the predictor variables. \n"
      ]
    },
    {
      "cell_type": "markdown",
      "metadata": {
        "id": "a9BPYqunry97"
      },
      "source": [
        "### c) Understanding the context "
      ]
    },
    {
      "cell_type": "markdown",
      "metadata": {
        "id": "iX3Tr3P2Ai5h"
      },
      "source": [
        "This project is being done on behalf of Hass Consulting Company, a real estate leader with over 25 years of experience. We have been tasked with studying the factors that affect housing; and creating a model that would allow the company to accurately prediact the sale prices."
      ]
    },
    {
      "cell_type": "markdown",
      "metadata": {
        "id": "7KMRBJ7zr9HD"
      },
      "source": [
        "### d) Recording the Experimental Design"
      ]
    },
    {
      "cell_type": "markdown",
      "metadata": {
        "id": "agXpGmzvsEEJ"
      },
      "source": [
        "In this study, I'll be conducting Explorative Data Analysis, i.e Univariate, Bivariate and Multivariate Analysis to get the relationships and differences between different variables. \n",
        "\n",
        "For regression analysis, I'll implement the following regression techniques and compare their performances.\n",
        "\n",
        ">1.   Multiple Linear Regression\n",
        "2.   Quantile Regression\n",
        "3.   Ridge Regression\n",
        "4.   Lasso Regression\n",
        "5.   Elastic Net Regression\n",
        "\n",
        "\n",
        "\n",
        "\n",
        "\n",
        "\n",
        "\n",
        "\n",
        "\n",
        "\n"
      ]
    },
    {
      "cell_type": "markdown",
      "metadata": {
        "id": "dfQTSjFzx08Y"
      },
      "source": [
        "### f) Importing relevant libraries\n",
        "\n"
      ]
    },
    {
      "cell_type": "code",
      "metadata": {
        "id": "b3Lmc0ijk7qS"
      },
      "source": [
        "#Importing Libraries \n",
        "#\n",
        "\n",
        "import numpy as np\n",
        "import pandas as pd\n",
        "import seaborn as sb\n",
        "import matplotlib.pyplot as plt\n",
        "import seaborn as sns\n",
        "\n",
        "from sklearn.model_selection import train_test_split\n",
        "from sklearn.linear_model import LinearRegression\n",
        "from sklearn import metrics\n",
        "import scipy as sp\n",
        "\n",
        "import statsmodels.formula.api as smf\n",
        "from sklearn.model_selection import GridSearchCV\n",
        "from sklearn.linear_model import Ridge\n",
        "from sklearn.metrics import mean_squared_error\n",
        "\n",
        "from sklearn.linear_model import Lasso\n",
        "from sklearn.datasets import load_boston\n",
        "from sklearn.preprocessing import StandardScaler\n",
        "from sklearn import linear_model\n",
        "from sklearn.preprocessing import StandardScaler, LabelEncoder\n",
        "import warnings\n",
        "warnings.filterwarnings(\"ignore\")"
      ],
      "execution_count": null,
      "outputs": []
    },
    {
      "cell_type": "markdown",
      "metadata": {
        "id": "iUNbvIvnT7ep"
      },
      "source": [
        "## 2. Reading the Data"
      ]
    },
    {
      "cell_type": "code",
      "metadata": {
        "id": "XJn2KjW-WMlG"
      },
      "source": [
        "# Loading the Dataset\n",
        "# Dataset url = http://bit.ly/IndependentProjectWeek7Dataset\n",
        "housing_df = pd.read_csv(\"/content/Independent Project Week 7 - house_data.csv\")\n"
      ],
      "execution_count": null,
      "outputs": []
    },
    {
      "cell_type": "markdown",
      "metadata": {
        "id": "OI3P3YnHUEBk"
      },
      "source": [
        "## 3. Checking the Data"
      ]
    },
    {
      "cell_type": "code",
      "metadata": {
        "id": "YjSVNwgptHxY",
        "colab": {
          "base_uri": "https://localhost:8080/"
        },
        "outputId": "7e4cc7e8-c5c1-4554-cc43-04011ff83916"
      },
      "source": [
        "# Determining the no. of records in our dataset\n",
        "housing_df.shape"
      ],
      "execution_count": null,
      "outputs": [
        {
          "output_type": "execute_result",
          "data": {
            "text/plain": [
              "(21613, 20)"
            ]
          },
          "metadata": {
            "tags": []
          },
          "execution_count": 323
        }
      ]
    },
    {
      "cell_type": "code",
      "metadata": {
        "id": "xHhTw5eKWr0n",
        "colab": {
          "base_uri": "https://localhost:8080/",
          "height": 224
        },
        "outputId": "3684321c-235c-4765-d735-7eb6de836c91"
      },
      "source": [
        "# Previewing the top of our dataset\n",
        "#\n",
        "housing_df.head()"
      ],
      "execution_count": null,
      "outputs": [
        {
          "output_type": "execute_result",
          "data": {
            "text/html": [
              "<div>\n",
              "<style scoped>\n",
              "    .dataframe tbody tr th:only-of-type {\n",
              "        vertical-align: middle;\n",
              "    }\n",
              "\n",
              "    .dataframe tbody tr th {\n",
              "        vertical-align: top;\n",
              "    }\n",
              "\n",
              "    .dataframe thead th {\n",
              "        text-align: right;\n",
              "    }\n",
              "</style>\n",
              "<table border=\"1\" class=\"dataframe\">\n",
              "  <thead>\n",
              "    <tr style=\"text-align: right;\">\n",
              "      <th></th>\n",
              "      <th>id</th>\n",
              "      <th>price</th>\n",
              "      <th>bedrooms</th>\n",
              "      <th>bathrooms</th>\n",
              "      <th>sqft_living</th>\n",
              "      <th>sqft_lot</th>\n",
              "      <th>floors</th>\n",
              "      <th>waterfront</th>\n",
              "      <th>view</th>\n",
              "      <th>condition</th>\n",
              "      <th>grade</th>\n",
              "      <th>sqft_above</th>\n",
              "      <th>sqft_basement</th>\n",
              "      <th>yr_built</th>\n",
              "      <th>yr_renovated</th>\n",
              "      <th>zipcode</th>\n",
              "      <th>lat</th>\n",
              "      <th>long</th>\n",
              "      <th>sqft_living15</th>\n",
              "      <th>sqft_lot15</th>\n",
              "    </tr>\n",
              "  </thead>\n",
              "  <tbody>\n",
              "    <tr>\n",
              "      <th>0</th>\n",
              "      <td>7129300520</td>\n",
              "      <td>221900.0</td>\n",
              "      <td>3</td>\n",
              "      <td>1.00</td>\n",
              "      <td>1180</td>\n",
              "      <td>5650</td>\n",
              "      <td>1.0</td>\n",
              "      <td>0</td>\n",
              "      <td>0</td>\n",
              "      <td>3</td>\n",
              "      <td>7</td>\n",
              "      <td>1180</td>\n",
              "      <td>0</td>\n",
              "      <td>1955</td>\n",
              "      <td>0</td>\n",
              "      <td>98178</td>\n",
              "      <td>47.5112</td>\n",
              "      <td>-122.257</td>\n",
              "      <td>1340</td>\n",
              "      <td>5650</td>\n",
              "    </tr>\n",
              "    <tr>\n",
              "      <th>1</th>\n",
              "      <td>6414100192</td>\n",
              "      <td>538000.0</td>\n",
              "      <td>3</td>\n",
              "      <td>2.25</td>\n",
              "      <td>2570</td>\n",
              "      <td>7242</td>\n",
              "      <td>2.0</td>\n",
              "      <td>0</td>\n",
              "      <td>0</td>\n",
              "      <td>3</td>\n",
              "      <td>7</td>\n",
              "      <td>2170</td>\n",
              "      <td>400</td>\n",
              "      <td>1951</td>\n",
              "      <td>1991</td>\n",
              "      <td>98125</td>\n",
              "      <td>47.7210</td>\n",
              "      <td>-122.319</td>\n",
              "      <td>1690</td>\n",
              "      <td>7639</td>\n",
              "    </tr>\n",
              "    <tr>\n",
              "      <th>2</th>\n",
              "      <td>5631500400</td>\n",
              "      <td>180000.0</td>\n",
              "      <td>2</td>\n",
              "      <td>1.00</td>\n",
              "      <td>770</td>\n",
              "      <td>10000</td>\n",
              "      <td>1.0</td>\n",
              "      <td>0</td>\n",
              "      <td>0</td>\n",
              "      <td>3</td>\n",
              "      <td>6</td>\n",
              "      <td>770</td>\n",
              "      <td>0</td>\n",
              "      <td>1933</td>\n",
              "      <td>0</td>\n",
              "      <td>98028</td>\n",
              "      <td>47.7379</td>\n",
              "      <td>-122.233</td>\n",
              "      <td>2720</td>\n",
              "      <td>8062</td>\n",
              "    </tr>\n",
              "    <tr>\n",
              "      <th>3</th>\n",
              "      <td>2487200875</td>\n",
              "      <td>604000.0</td>\n",
              "      <td>4</td>\n",
              "      <td>3.00</td>\n",
              "      <td>1960</td>\n",
              "      <td>5000</td>\n",
              "      <td>1.0</td>\n",
              "      <td>0</td>\n",
              "      <td>0</td>\n",
              "      <td>5</td>\n",
              "      <td>7</td>\n",
              "      <td>1050</td>\n",
              "      <td>910</td>\n",
              "      <td>1965</td>\n",
              "      <td>0</td>\n",
              "      <td>98136</td>\n",
              "      <td>47.5208</td>\n",
              "      <td>-122.393</td>\n",
              "      <td>1360</td>\n",
              "      <td>5000</td>\n",
              "    </tr>\n",
              "    <tr>\n",
              "      <th>4</th>\n",
              "      <td>1954400510</td>\n",
              "      <td>510000.0</td>\n",
              "      <td>3</td>\n",
              "      <td>2.00</td>\n",
              "      <td>1680</td>\n",
              "      <td>8080</td>\n",
              "      <td>1.0</td>\n",
              "      <td>0</td>\n",
              "      <td>0</td>\n",
              "      <td>3</td>\n",
              "      <td>8</td>\n",
              "      <td>1680</td>\n",
              "      <td>0</td>\n",
              "      <td>1987</td>\n",
              "      <td>0</td>\n",
              "      <td>98074</td>\n",
              "      <td>47.6168</td>\n",
              "      <td>-122.045</td>\n",
              "      <td>1800</td>\n",
              "      <td>7503</td>\n",
              "    </tr>\n",
              "  </tbody>\n",
              "</table>\n",
              "</div>"
            ],
            "text/plain": [
              "           id     price  bedrooms  ...     long  sqft_living15  sqft_lot15\n",
              "0  7129300520  221900.0         3  ... -122.257           1340        5650\n",
              "1  6414100192  538000.0         3  ... -122.319           1690        7639\n",
              "2  5631500400  180000.0         2  ... -122.233           2720        8062\n",
              "3  2487200875  604000.0         4  ... -122.393           1360        5000\n",
              "4  1954400510  510000.0         3  ... -122.045           1800        7503\n",
              "\n",
              "[5 rows x 20 columns]"
            ]
          },
          "metadata": {
            "tags": []
          },
          "execution_count": 324
        }
      ]
    },
    {
      "cell_type": "code",
      "metadata": {
        "id": "e9AzGcZFrIIr",
        "colab": {
          "base_uri": "https://localhost:8080/",
          "height": 224
        },
        "outputId": "37b50fd4-49b9-4470-9c98-c2c0f7ab3579"
      },
      "source": [
        "# Previewing the bottom of our dataset\n",
        "# \n",
        "housing_df.tail()"
      ],
      "execution_count": null,
      "outputs": [
        {
          "output_type": "execute_result",
          "data": {
            "text/html": [
              "<div>\n",
              "<style scoped>\n",
              "    .dataframe tbody tr th:only-of-type {\n",
              "        vertical-align: middle;\n",
              "    }\n",
              "\n",
              "    .dataframe tbody tr th {\n",
              "        vertical-align: top;\n",
              "    }\n",
              "\n",
              "    .dataframe thead th {\n",
              "        text-align: right;\n",
              "    }\n",
              "</style>\n",
              "<table border=\"1\" class=\"dataframe\">\n",
              "  <thead>\n",
              "    <tr style=\"text-align: right;\">\n",
              "      <th></th>\n",
              "      <th>id</th>\n",
              "      <th>price</th>\n",
              "      <th>bedrooms</th>\n",
              "      <th>bathrooms</th>\n",
              "      <th>sqft_living</th>\n",
              "      <th>sqft_lot</th>\n",
              "      <th>floors</th>\n",
              "      <th>waterfront</th>\n",
              "      <th>view</th>\n",
              "      <th>condition</th>\n",
              "      <th>grade</th>\n",
              "      <th>sqft_above</th>\n",
              "      <th>sqft_basement</th>\n",
              "      <th>yr_built</th>\n",
              "      <th>yr_renovated</th>\n",
              "      <th>zipcode</th>\n",
              "      <th>lat</th>\n",
              "      <th>long</th>\n",
              "      <th>sqft_living15</th>\n",
              "      <th>sqft_lot15</th>\n",
              "    </tr>\n",
              "  </thead>\n",
              "  <tbody>\n",
              "    <tr>\n",
              "      <th>21608</th>\n",
              "      <td>263000018</td>\n",
              "      <td>360000.0</td>\n",
              "      <td>3</td>\n",
              "      <td>2.50</td>\n",
              "      <td>1530</td>\n",
              "      <td>1131</td>\n",
              "      <td>3.0</td>\n",
              "      <td>0</td>\n",
              "      <td>0</td>\n",
              "      <td>3</td>\n",
              "      <td>8</td>\n",
              "      <td>1530</td>\n",
              "      <td>0</td>\n",
              "      <td>2009</td>\n",
              "      <td>0</td>\n",
              "      <td>98103</td>\n",
              "      <td>47.6993</td>\n",
              "      <td>-122.346</td>\n",
              "      <td>1530</td>\n",
              "      <td>1509</td>\n",
              "    </tr>\n",
              "    <tr>\n",
              "      <th>21609</th>\n",
              "      <td>6600060120</td>\n",
              "      <td>400000.0</td>\n",
              "      <td>4</td>\n",
              "      <td>2.50</td>\n",
              "      <td>2310</td>\n",
              "      <td>5813</td>\n",
              "      <td>2.0</td>\n",
              "      <td>0</td>\n",
              "      <td>0</td>\n",
              "      <td>3</td>\n",
              "      <td>8</td>\n",
              "      <td>2310</td>\n",
              "      <td>0</td>\n",
              "      <td>2014</td>\n",
              "      <td>0</td>\n",
              "      <td>98146</td>\n",
              "      <td>47.5107</td>\n",
              "      <td>-122.362</td>\n",
              "      <td>1830</td>\n",
              "      <td>7200</td>\n",
              "    </tr>\n",
              "    <tr>\n",
              "      <th>21610</th>\n",
              "      <td>1523300141</td>\n",
              "      <td>402101.0</td>\n",
              "      <td>2</td>\n",
              "      <td>0.75</td>\n",
              "      <td>1020</td>\n",
              "      <td>1350</td>\n",
              "      <td>2.0</td>\n",
              "      <td>0</td>\n",
              "      <td>0</td>\n",
              "      <td>3</td>\n",
              "      <td>7</td>\n",
              "      <td>1020</td>\n",
              "      <td>0</td>\n",
              "      <td>2009</td>\n",
              "      <td>0</td>\n",
              "      <td>98144</td>\n",
              "      <td>47.5944</td>\n",
              "      <td>-122.299</td>\n",
              "      <td>1020</td>\n",
              "      <td>2007</td>\n",
              "    </tr>\n",
              "    <tr>\n",
              "      <th>21611</th>\n",
              "      <td>291310100</td>\n",
              "      <td>400000.0</td>\n",
              "      <td>3</td>\n",
              "      <td>2.50</td>\n",
              "      <td>1600</td>\n",
              "      <td>2388</td>\n",
              "      <td>2.0</td>\n",
              "      <td>0</td>\n",
              "      <td>0</td>\n",
              "      <td>3</td>\n",
              "      <td>8</td>\n",
              "      <td>1600</td>\n",
              "      <td>0</td>\n",
              "      <td>2004</td>\n",
              "      <td>0</td>\n",
              "      <td>98027</td>\n",
              "      <td>47.5345</td>\n",
              "      <td>-122.069</td>\n",
              "      <td>1410</td>\n",
              "      <td>1287</td>\n",
              "    </tr>\n",
              "    <tr>\n",
              "      <th>21612</th>\n",
              "      <td>1523300157</td>\n",
              "      <td>325000.0</td>\n",
              "      <td>2</td>\n",
              "      <td>0.75</td>\n",
              "      <td>1020</td>\n",
              "      <td>1076</td>\n",
              "      <td>2.0</td>\n",
              "      <td>0</td>\n",
              "      <td>0</td>\n",
              "      <td>3</td>\n",
              "      <td>7</td>\n",
              "      <td>1020</td>\n",
              "      <td>0</td>\n",
              "      <td>2008</td>\n",
              "      <td>0</td>\n",
              "      <td>98144</td>\n",
              "      <td>47.5941</td>\n",
              "      <td>-122.299</td>\n",
              "      <td>1020</td>\n",
              "      <td>1357</td>\n",
              "    </tr>\n",
              "  </tbody>\n",
              "</table>\n",
              "</div>"
            ],
            "text/plain": [
              "               id     price  bedrooms  ...     long  sqft_living15  sqft_lot15\n",
              "21608   263000018  360000.0         3  ... -122.346           1530        1509\n",
              "21609  6600060120  400000.0         4  ... -122.362           1830        7200\n",
              "21610  1523300141  402101.0         2  ... -122.299           1020        2007\n",
              "21611   291310100  400000.0         3  ... -122.069           1410        1287\n",
              "21612  1523300157  325000.0         2  ... -122.299           1020        1357\n",
              "\n",
              "[5 rows x 20 columns]"
            ]
          },
          "metadata": {
            "tags": []
          },
          "execution_count": 325
        }
      ]
    },
    {
      "cell_type": "code",
      "metadata": {
        "id": "n8-dW4sQWzbc",
        "colab": {
          "base_uri": "https://localhost:8080/"
        },
        "outputId": "b71fe7cd-5631-40f7-a2d4-60048a4f01ce"
      },
      "source": [
        "# Checking whether each column has an appropriate datatype\n",
        "#\n",
        "housing_df.dtypes\n",
        "\n",
        "#All columns have the right data types"
      ],
      "execution_count": null,
      "outputs": [
        {
          "output_type": "execute_result",
          "data": {
            "text/plain": [
              "id                 int64\n",
              "price            float64\n",
              "bedrooms           int64\n",
              "bathrooms        float64\n",
              "sqft_living        int64\n",
              "sqft_lot           int64\n",
              "floors           float64\n",
              "waterfront         int64\n",
              "view               int64\n",
              "condition          int64\n",
              "grade              int64\n",
              "sqft_above         int64\n",
              "sqft_basement      int64\n",
              "yr_built           int64\n",
              "yr_renovated       int64\n",
              "zipcode            int64\n",
              "lat              float64\n",
              "long             float64\n",
              "sqft_living15      int64\n",
              "sqft_lot15         int64\n",
              "dtype: object"
            ]
          },
          "metadata": {
            "tags": []
          },
          "execution_count": 326
        }
      ]
    },
    {
      "cell_type": "markdown",
      "metadata": {
        "id": "ckfufNrcUHeH"
      },
      "source": [
        "## 4. External Data Source Validation"
      ]
    },
    {
      "cell_type": "markdown",
      "metadata": {
        "id": "6L4sl_0WXlbg"
      },
      "source": [
        "Making sure your data matches something outside of the dataset is very important. It allows you to ensure that the measurements are roughly in line with what they should be and it serves as a check on what other things might be wrong in your dataset. External validation can often be as simple as checking your data against a single number, as we will do here."
      ]
    },
    {
      "cell_type": "markdown",
      "metadata": {
        "id": "6XC_g-zKxe-r"
      },
      "source": [
        "### a.Validation"
      ]
    },
    {
      "cell_type": "markdown",
      "metadata": {
        "id": "wu9y63eszRRS"
      },
      "source": [
        "To continue with cleaning the dataset and further move to feature engineering, it is important for us to gauge which variables will be necessary for our analysis and also classify which variables will be used as **features** and which will be the **target**.\n",
        "\n",
        "---\n",
        "\n",
        "\n",
        "\n",
        "**Target**: since I'm creating a model that would allow the company to accurately predict the sale of prices, *price* will be our target variable.\n",
        "\n",
        "---\n",
        "\n",
        "\n",
        "\n",
        "**Features**: the following will be the features used in the model to predict the results; bedrooms,\tbathrooms,\tsqft_living, sqft_lot,\tfloors,\twaterfront,\tview,\tcondition\t, grade,\tsqft_above,\tsqft_basement,\tyr_built,\tyr_renovated,\tzipcode, sqft_living15,\tsqft_lot15."
      ]
    },
    {
      "cell_type": "markdown",
      "metadata": {
        "id": "FlBMxEDBUc9B"
      },
      "source": [
        "## 5. Tidying the Dataset"
      ]
    },
    {
      "cell_type": "code",
      "metadata": {
        "id": "PvCYb6dgW4yh",
        "colab": {
          "base_uri": "https://localhost:8080/"
        },
        "outputId": "c417c634-01c1-4d76-fb73-92ce49e36c26"
      },
      "source": [
        "# Identifying the Missing Data\n",
        "#\n",
        "\n",
        "housing_df.isnull().sum()\n",
        "\n",
        "# There are no missing values"
      ],
      "execution_count": null,
      "outputs": [
        {
          "output_type": "execute_result",
          "data": {
            "text/plain": [
              "id               0\n",
              "price            0\n",
              "bedrooms         0\n",
              "bathrooms        0\n",
              "sqft_living      0\n",
              "sqft_lot         0\n",
              "floors           0\n",
              "waterfront       0\n",
              "view             0\n",
              "condition        0\n",
              "grade            0\n",
              "sqft_above       0\n",
              "sqft_basement    0\n",
              "yr_built         0\n",
              "yr_renovated     0\n",
              "zipcode          0\n",
              "lat              0\n",
              "long             0\n",
              "sqft_living15    0\n",
              "sqft_lot15       0\n",
              "dtype: int64"
            ]
          },
          "metadata": {
            "tags": []
          },
          "execution_count": 327
        }
      ]
    },
    {
      "cell_type": "code",
      "metadata": {
        "id": "MpsDGKZHsf_W",
        "colab": {
          "base_uri": "https://localhost:8080/"
        },
        "outputId": "5f422348-781c-460a-bac6-019725435c98"
      },
      "source": [
        "# Checking for duplicates\n",
        "#\n",
        "housing_df.duplicated().sum()"
      ],
      "execution_count": null,
      "outputs": [
        {
          "output_type": "execute_result",
          "data": {
            "text/plain": [
              "3"
            ]
          },
          "metadata": {
            "tags": []
          },
          "execution_count": 328
        }
      ]
    },
    {
      "cell_type": "markdown",
      "source": [
        "The dataset has 3 duplictes"
      ],
      "metadata": {
        "id": "5s0d_VETq3CB"
      }
    },
    {
      "cell_type": "code",
      "metadata": {
        "id": "9_ONbk6w1-8M"
      },
      "source": [
        "# Removing duplicates\n",
        "\n",
        "housing_df.drop_duplicates(inplace=True)"
      ],
      "execution_count": null,
      "outputs": []
    },
    {
      "cell_type": "code",
      "metadata": {
        "colab": {
          "base_uri": "https://localhost:8080/"
        },
        "id": "bvon-y7YOI9O",
        "outputId": "0a42453c-ca9e-4ec5-dd59-ba601f8566b0"
      },
      "source": [
        "# Checking for columns where all values are zero\n",
        "zero_cols = [ col for col, is_zero in ((housing_df == 0).sum() == housing_df.shape[0]).items() if is_zero ]\n",
        "\n",
        "zero_cols"
      ],
      "execution_count": null,
      "outputs": [
        {
          "output_type": "execute_result",
          "data": {
            "text/plain": [
              "['waterfront', 'view', 'yr_renovated']"
            ]
          },
          "metadata": {
            "tags": []
          },
          "execution_count": 53
        }
      ]
    },
    {
      "cell_type": "code",
      "metadata": {
        "id": "uDVYhUU700jJ"
      },
      "source": [
        "# Dropping irrelevant columns\n",
        "housing_df.drop(columns=['id', 'lat', 'long', 'waterfront', 'view', 'yr_renovated'], axis=1, inplace=True)"
      ],
      "execution_count": null,
      "outputs": []
    },
    {
      "cell_type": "code",
      "metadata": {
        "id": "5o_bQcT5W3Wz",
        "colab": {
          "base_uri": "https://localhost:8080/"
        },
        "outputId": "285004fe-349b-45ae-bd83-e89dbb1315fa"
      },
      "source": [
        "# Checking for Outliers\n",
        "#\n",
        "\n",
        "Q1 = housing_df.quantile(0.25)\n",
        "Q3 = housing_df.quantile(0.75)\n",
        "IQR = Q3 - Q1\n",
        "print(IQR)\n",
        "\n"
      ],
      "execution_count": null,
      "outputs": [
        {
          "output_type": "stream",
          "text": [
            "price            323387.50\n",
            "bedrooms              1.00\n",
            "bathrooms             0.75\n",
            "sqft_living        1124.50\n",
            "sqft_lot           5648.75\n",
            "floors                1.00\n",
            "condition             1.00\n",
            "grade                 1.00\n",
            "sqft_above         1020.00\n",
            "sqft_basement       560.00\n",
            "yr_built             46.00\n",
            "zipcode              85.00\n",
            "sqft_living15       870.00\n",
            "sqft_lot15         4983.00\n",
            "dtype: float64\n"
          ],
          "name": "stdout"
        }
      ]
    },
    {
      "cell_type": "code",
      "metadata": {
        "colab": {
          "base_uri": "https://localhost:8080/",
          "height": 1000
        },
        "id": "RuuvZFel40xu",
        "outputId": "4656fa99-3958-421b-97eb-55a0b308aa5e"
      },
      "source": [
        "#Plotting the box plot for columns with outliers\n",
        "\n",
        "col_names = ['price','sqft_living','sqft_lot', 'sqft_lot15', 'sqft_living15', 'sqft_above', 'sqft_basement', 'sqft_lot15', 'sqft_living15']\n",
        "\n",
        "fig,ax = plt.subplots(len(col_names),figsize=(8,40))\n",
        "for i , col_val in enumerate(col_names):\n",
        "  sns.boxplot(y=housing_df[col_val],ax=ax[i])\n",
        "  ax[i].set_title('Box plot - {}'.format(col_val), fontsize =10)\n",
        "  ax[i].set_xlabel(col_val,fontsize=10)\n",
        "plt.show()"
      ],
      "execution_count": null,
      "outputs": [
        {
          "output_type": "display_data",
          "data": {
            "image/png": "[encoded data removed]",
            "text/plain": [
              "<Figure size 576x2880 with 9 Axes>"
            ]
          },
          "metadata": {
            "tags": []
          }
        }
      ]
    },
    {
      "cell_type": "code",
      "metadata": {
        "colab": {
          "base_uri": "https://localhost:8080/"
        },
        "id": "sTfZKwiQ5_3N",
        "outputId": "4c72aac2-fa0a-48f2-ebc4-74290d795e56"
      },
      "source": [
        "# Removing outliers\n",
        "housing_df = housing_df[~((housing_df < (Q1 - 1.5 * IQR)) |(housing_df > (Q3 + 1.5 * IQR))).any(axis=1)]\n",
        "housing_df.shape"
      ],
      "execution_count": null,
      "outputs": [
        {
          "output_type": "execute_result",
          "data": {
            "text/plain": [
              "(16612, 14)"
            ]
          },
          "metadata": {
            "tags": []
          },
          "execution_count": 333
        }
      ]
    },
    {
      "cell_type": "code",
      "metadata": {
        "id": "D-4I__6Os4C5",
        "colab": {
          "base_uri": "https://localhost:8080/"
        },
        "outputId": "e810127e-8d4d-4fa7-bb0f-a21a6460df60"
      },
      "source": [
        "# More data cleaning procedures\n",
        "#\n",
        "housing_df.info()"
      ],
      "execution_count": null,
      "outputs": [
        {
          "output_type": "stream",
          "text": [
            "<class 'pandas.core.frame.DataFrame'>\n",
            "Int64Index: 16612 entries, 0 to 21612\n",
            "Data columns (total 14 columns):\n",
            " #   Column         Non-Null Count  Dtype  \n",
            "---  ------         --------------  -----  \n",
            " 0   price          16612 non-null  float64\n",
            " 1   bedrooms       16612 non-null  int64  \n",
            " 2   bathrooms      16612 non-null  float64\n",
            " 3   sqft_living    16612 non-null  int64  \n",
            " 4   sqft_lot       16612 non-null  int64  \n",
            " 5   floors         16612 non-null  float64\n",
            " 6   condition      16612 non-null  int64  \n",
            " 7   grade          16612 non-null  int64  \n",
            " 8   sqft_above     16612 non-null  int64  \n",
            " 9   sqft_basement  16612 non-null  int64  \n",
            " 10  yr_built       16612 non-null  int64  \n",
            " 11  zipcode        16612 non-null  int64  \n",
            " 12  sqft_living15  16612 non-null  int64  \n",
            " 13  sqft_lot15     16612 non-null  int64  \n",
            "dtypes: float64(3), int64(11)\n",
            "memory usage: 1.9 MB\n"
          ],
          "name": "stdout"
        }
      ]
    },
    {
      "cell_type": "markdown",
      "metadata": {
        "id": "rF2ABPsHUtbZ"
      },
      "source": [
        "## 6. Exploratory Analysis"
      ]
    },
    {
      "cell_type": "markdown",
      "metadata": {
        "id": "wJ16KyZgAto3"
      },
      "source": [
        "### a) Univariate Analysis"
      ]
    },
    {
      "cell_type": "code",
      "metadata": {
        "id": "5nnRToniXGDK",
        "colab": {
          "base_uri": "https://localhost:8080/",
          "height": 317
        },
        "outputId": "88de26d0-40d2-409b-dda8-11626f0468eb"
      },
      "source": [
        "# Ploting the univariate summaries and recording our observations\n",
        "#\n",
        "housing_df.describe()"
      ],
      "execution_count": null,
      "outputs": [
        {
          "output_type": "execute_result",
          "data": {
            "text/html": [
              "<div>\n",
              "<style scoped>\n",
              "    .dataframe tbody tr th:only-of-type {\n",
              "        vertical-align: middle;\n",
              "    }\n",
              "\n",
              "    .dataframe tbody tr th {\n",
              "        vertical-align: top;\n",
              "    }\n",
              "\n",
              "    .dataframe thead th {\n",
              "        text-align: right;\n",
              "    }\n",
              "</style>\n",
              "<table border=\"1\" class=\"dataframe\">\n",
              "  <thead>\n",
              "    <tr style=\"text-align: right;\">\n",
              "      <th></th>\n",
              "      <th>price</th>\n",
              "      <th>bedrooms</th>\n",
              "      <th>bathrooms</th>\n",
              "      <th>sqft_living</th>\n",
              "      <th>sqft_lot</th>\n",
              "      <th>floors</th>\n",
              "      <th>condition</th>\n",
              "      <th>grade</th>\n",
              "      <th>sqft_above</th>\n",
              "      <th>sqft_basement</th>\n",
              "      <th>yr_built</th>\n",
              "      <th>zipcode</th>\n",
              "      <th>sqft_living15</th>\n",
              "      <th>sqft_lot15</th>\n",
              "    </tr>\n",
              "  </thead>\n",
              "  <tbody>\n",
              "    <tr>\n",
              "      <th>count</th>\n",
              "      <td>1.661200e+04</td>\n",
              "      <td>16612.000000</td>\n",
              "      <td>16612.000000</td>\n",
              "      <td>16612.000000</td>\n",
              "      <td>16612.000000</td>\n",
              "      <td>16612.000000</td>\n",
              "      <td>16612.000000</td>\n",
              "      <td>16612.000000</td>\n",
              "      <td>16612.000000</td>\n",
              "      <td>16612.000000</td>\n",
              "      <td>16612.000000</td>\n",
              "      <td>16612.000000</td>\n",
              "      <td>16612.000000</td>\n",
              "      <td>16612.000000</td>\n",
              "    </tr>\n",
              "    <tr>\n",
              "      <th>mean</th>\n",
              "      <td>4.524053e+05</td>\n",
              "      <td>3.269083</td>\n",
              "      <td>1.984574</td>\n",
              "      <td>1838.827354</td>\n",
              "      <td>7054.684987</td>\n",
              "      <td>1.466079</td>\n",
              "      <td>3.417108</td>\n",
              "      <td>7.401637</td>\n",
              "      <td>1590.670178</td>\n",
              "      <td>248.157176</td>\n",
              "      <td>1969.976764</td>\n",
              "      <td>98081.933843</td>\n",
              "      <td>1815.761558</td>\n",
              "      <td>6932.756381</td>\n",
              "    </tr>\n",
              "    <tr>\n",
              "      <th>std</th>\n",
              "      <td>1.895564e+05</td>\n",
              "      <td>0.775242</td>\n",
              "      <td>0.649025</td>\n",
              "      <td>623.932141</td>\n",
              "      <td>3384.975688</td>\n",
              "      <td>0.544185</td>\n",
              "      <td>0.644826</td>\n",
              "      <td>0.811774</td>\n",
              "      <td>599.165058</td>\n",
              "      <td>366.895185</td>\n",
              "      <td>29.705813</td>\n",
              "      <td>54.046737</td>\n",
              "      <td>514.988225</td>\n",
              "      <td>3015.852296</td>\n",
              "    </tr>\n",
              "    <tr>\n",
              "      <th>min</th>\n",
              "      <td>8.200000e+04</td>\n",
              "      <td>2.000000</td>\n",
              "      <td>0.750000</td>\n",
              "      <td>560.000000</td>\n",
              "      <td>520.000000</td>\n",
              "      <td>1.000000</td>\n",
              "      <td>2.000000</td>\n",
              "      <td>6.000000</td>\n",
              "      <td>480.000000</td>\n",
              "      <td>0.000000</td>\n",
              "      <td>1900.000000</td>\n",
              "      <td>98001.000000</td>\n",
              "      <td>620.000000</td>\n",
              "      <td>651.000000</td>\n",
              "    </tr>\n",
              "    <tr>\n",
              "      <th>25%</th>\n",
              "      <td>3.055000e+05</td>\n",
              "      <td>3.000000</td>\n",
              "      <td>1.500000</td>\n",
              "      <td>1360.000000</td>\n",
              "      <td>4750.000000</td>\n",
              "      <td>1.000000</td>\n",
              "      <td>3.000000</td>\n",
              "      <td>7.000000</td>\n",
              "      <td>1150.000000</td>\n",
              "      <td>0.000000</td>\n",
              "      <td>1950.000000</td>\n",
              "      <td>98033.000000</td>\n",
              "      <td>1440.000000</td>\n",
              "      <td>4820.000000</td>\n",
              "    </tr>\n",
              "    <tr>\n",
              "      <th>50%</th>\n",
              "      <td>4.190000e+05</td>\n",
              "      <td>3.000000</td>\n",
              "      <td>2.000000</td>\n",
              "      <td>1770.000000</td>\n",
              "      <td>7029.500000</td>\n",
              "      <td>1.000000</td>\n",
              "      <td>3.000000</td>\n",
              "      <td>7.000000</td>\n",
              "      <td>1440.000000</td>\n",
              "      <td>0.000000</td>\n",
              "      <td>1971.000000</td>\n",
              "      <td>98074.000000</td>\n",
              "      <td>1720.000000</td>\n",
              "      <td>7169.000000</td>\n",
              "    </tr>\n",
              "    <tr>\n",
              "      <th>75%</th>\n",
              "      <td>5.641125e+05</td>\n",
              "      <td>4.000000</td>\n",
              "      <td>2.500000</td>\n",
              "      <td>2240.000000</td>\n",
              "      <td>9000.000000</td>\n",
              "      <td>2.000000</td>\n",
              "      <td>4.000000</td>\n",
              "      <td>8.000000</td>\n",
              "      <td>1920.000000</td>\n",
              "      <td>500.000000</td>\n",
              "      <td>1997.000000</td>\n",
              "      <td>98119.000000</td>\n",
              "      <td>2130.000000</td>\n",
              "      <td>8744.000000</td>\n",
              "    </tr>\n",
              "    <tr>\n",
              "      <th>max</th>\n",
              "      <td>1.130000e+06</td>\n",
              "      <td>5.000000</td>\n",
              "      <td>3.500000</td>\n",
              "      <td>4200.000000</td>\n",
              "      <td>19141.000000</td>\n",
              "      <td>3.500000</td>\n",
              "      <td>5.000000</td>\n",
              "      <td>9.000000</td>\n",
              "      <td>3740.000000</td>\n",
              "      <td>1400.000000</td>\n",
              "      <td>2015.000000</td>\n",
              "      <td>98199.000000</td>\n",
              "      <td>3640.000000</td>\n",
              "      <td>17550.000000</td>\n",
              "    </tr>\n",
              "  </tbody>\n",
              "</table>\n",
              "</div>"
            ],
            "text/plain": [
              "              price      bedrooms  ...  sqft_living15    sqft_lot15\n",
              "count  1.661200e+04  16612.000000  ...   16612.000000  16612.000000\n",
              "mean   4.524053e+05      3.269083  ...    1815.761558   6932.756381\n",
              "std    1.895564e+05      0.775242  ...     514.988225   3015.852296\n",
              "min    8.200000e+04      2.000000  ...     620.000000    651.000000\n",
              "25%    3.055000e+05      3.000000  ...    1440.000000   4820.000000\n",
              "50%    4.190000e+05      3.000000  ...    1720.000000   7169.000000\n",
              "75%    5.641125e+05      4.000000  ...    2130.000000   8744.000000\n",
              "max    1.130000e+06      5.000000  ...    3640.000000  17550.000000\n",
              "\n",
              "[8 rows x 14 columns]"
            ]
          },
          "metadata": {
            "tags": []
          },
          "execution_count": 335
        }
      ]
    },
    {
      "cell_type": "code",
      "metadata": {
        "colab": {
          "base_uri": "https://localhost:8080/",
          "height": 336
        },
        "id": "AjggQwsyKOkw",
        "outputId": "e911e5a3-9047-4c75-844a-a7ffcf2ef3ba"
      },
      "source": [
        "# Ploting the univariate summaries and recording our observations\n",
        "#\n",
        "plt.figure(figsize = (10,5))\n",
        "housing_df['bedrooms'].value_counts().plot(kind = 'bar', color = 'deeppink')"
      ],
      "execution_count": null,
      "outputs": [
        {
          "output_type": "execute_result",
          "data": {
            "text/plain": [
              "<matplotlib.axes._subplots.AxesSubplot at 0x7f7764f56908>"
            ]
          },
          "metadata": {
            "tags": []
          },
          "execution_count": 336
        },
        {
          "output_type": "display_data",
          "data": {
            "image/png": "[encoded data removed]",
            "text/plain": [
              "<Figure size 720x360 with 1 Axes>"
            ]
          },
          "metadata": {
            "tags": []
          }
        }
      ]
    },
    {
      "cell_type": "code",
      "metadata": {
        "id": "IqUZDswrFBPX",
        "colab": {
          "base_uri": "https://localhost:8080/",
          "height": 353
        },
        "outputId": "8fb75aad-16b6-4b39-e958-467cb3b2e0c8"
      },
      "source": [
        "plt.figure(figsize = (15,5))\n",
        "housing_df['bathrooms'].value_counts().plot(kind = 'bar', color = 'deeppink')"
      ],
      "execution_count": null,
      "outputs": [
        {
          "output_type": "execute_result",
          "data": {
            "text/plain": [
              "<matplotlib.axes._subplots.AxesSubplot at 0x7f7764f367b8>"
            ]
          },
          "metadata": {
            "tags": []
          },
          "execution_count": 337
        },
        {
          "output_type": "display_data",
          "data": {
            "image/png": "[encoded data removed]",
            "text/plain": [
              "<Figure size 1080x360 with 1 Axes>"
            ]
          },
          "metadata": {
            "tags": []
          }
        }
      ]
    },
    {
      "cell_type": "code",
      "metadata": {
        "id": "Y-vyEnmFFX4U",
        "colab": {
          "base_uri": "https://localhost:8080/",
          "height": 347
        },
        "outputId": "7a34218b-2e79-4c70-b3b9-17468765514a"
      },
      "source": [
        "plt.figure(figsize = (10,5))\n",
        "housing_df['floors'].value_counts().plot(kind = 'bar', color = 'deeppink')"
      ],
      "execution_count": null,
      "outputs": [
        {
          "output_type": "execute_result",
          "data": {
            "text/plain": [
              "<matplotlib.axes._subplots.AxesSubplot at 0x7f7764fcefd0>"
            ]
          },
          "metadata": {
            "tags": []
          },
          "execution_count": 338
        },
        {
          "output_type": "display_data",
          "data": {
            "image/png": "[encoded data removed]",
            "text/plain": [
              "<Figure size 720x360 with 1 Axes>"
            ]
          },
          "metadata": {
            "tags": []
          }
        }
      ]
    },
    {
      "cell_type": "code",
      "metadata": {
        "id": "dTR6R1pjGwSb",
        "colab": {
          "base_uri": "https://localhost:8080/",
          "height": 336
        },
        "outputId": "da38fa70-b547-464d-8730-8cbab13e4c6c"
      },
      "source": [
        "plt.figure(figsize = (10,5))\n",
        "housing_df['condition'].value_counts().plot(kind = 'bar', color = 'deeppink')\n"
      ],
      "execution_count": null,
      "outputs": [
        {
          "output_type": "execute_result",
          "data": {
            "text/plain": [
              "<matplotlib.axes._subplots.AxesSubplot at 0x7f7764ea2908>"
            ]
          },
          "metadata": {
            "tags": []
          },
          "execution_count": 339
        },
        {
          "output_type": "display_data",
          "data": {
            "image/png": "[encoded data removed]",
            "text/plain": [
              "<Figure size 720x360 with 1 Axes>"
            ]
          },
          "metadata": {
            "tags": []
          }
        }
      ]
    },
    {
      "cell_type": "code",
      "metadata": {
        "id": "EFtmFRC_Hg8E",
        "colab": {
          "base_uri": "https://localhost:8080/",
          "height": 336
        },
        "outputId": "5a40f2a1-7dec-43af-f1bc-e595991ed36a"
      },
      "source": [
        "plt.figure(figsize = (10,5))\n",
        "housing_df['grade'].value_counts().plot(kind = 'bar', color = 'deeppink')"
      ],
      "execution_count": null,
      "outputs": [
        {
          "output_type": "execute_result",
          "data": {
            "text/plain": [
              "<matplotlib.axes._subplots.AxesSubplot at 0x7f776a61dcc0>"
            ]
          },
          "metadata": {
            "tags": []
          },
          "execution_count": 340
        },
        {
          "output_type": "display_data",
          "data": {
            "image/png": "[encoded data removed]",
            "text/plain": [
              "<Figure size 720x360 with 1 Axes>"
            ]
          },
          "metadata": {
            "tags": []
          }
        }
      ]
    },
    {
      "cell_type": "markdown",
      "metadata": {
        "id": "Q_seyxNTPYft"
      },
      "source": [
        "## Observations\n",
        "> 1. Most of the houses owned by the Hass Consultig company are three bedroomed.\n",
        "> 2. Most of the houses owned by the company have 2.5 bathrooms.\n",
        "> 3. Most of the houses have one floor.\n",
        "> 4. Most of their houses are grade 7.\n"
      ]
    },
    {
      "cell_type": "code",
      "metadata": {
        "colab": {
          "base_uri": "https://localhost:8080/",
          "height": 666
        },
        "id": "-7zwTN6p_9Z9",
        "outputId": "437d4519-2e34-4dbd-fa5c-7d2651c75461"
      },
      "source": [
        "##Checking for data distribution\n",
        "housing_df.hist(bins=10, figsize=(10,10))\n",
        "plt.suptitle('Histograms to show distribution of Numerical variables')\n",
        "plt.show()"
      ],
      "execution_count": null,
      "outputs": [
        {
          "output_type": "display_data",
          "data": {
            "image/png": "[encoded data removed]",
            "text/plain": [
              "<Figure size 720x720 with 16 Axes>"
            ]
          },
          "metadata": {
            "tags": []
          }
        }
      ]
    },
    {
      "cell_type": "markdown",
      "metadata": {
        "id": "98LZJ6hIQPdL"
      },
      "source": [
        "### b) Bivariate Analysis"
      ]
    },
    {
      "cell_type": "code",
      "metadata": {
        "colab": {
          "base_uri": "https://localhost:8080/",
          "height": 503
        },
        "id": "_Ste4lOMBYiA",
        "outputId": "b8c2a355-96ce-4934-f0da-d3bc784b3a0d"
      },
      "source": [
        "#Correlation matrix.\n",
        "\n",
        "matrix = housing_df.corr()\n",
        "matrix\n"
      ],
      "execution_count": null,
      "outputs": [
        {
          "output_type": "execute_result",
          "data": {
            "text/html": [
              "<div>\n",
              "<style scoped>\n",
              "    .dataframe tbody tr th:only-of-type {\n",
              "        vertical-align: middle;\n",
              "    }\n",
              "\n",
              "    .dataframe tbody tr th {\n",
              "        vertical-align: top;\n",
              "    }\n",
              "\n",
              "    .dataframe thead th {\n",
              "        text-align: right;\n",
              "    }\n",
              "</style>\n",
              "<table border=\"1\" class=\"dataframe\">\n",
              "  <thead>\n",
              "    <tr style=\"text-align: right;\">\n",
              "      <th></th>\n",
              "      <th>price</th>\n",
              "      <th>bedrooms</th>\n",
              "      <th>bathrooms</th>\n",
              "      <th>sqft_living</th>\n",
              "      <th>sqft_lot</th>\n",
              "      <th>floors</th>\n",
              "      <th>condition</th>\n",
              "      <th>grade</th>\n",
              "      <th>sqft_above</th>\n",
              "      <th>sqft_basement</th>\n",
              "      <th>yr_built</th>\n",
              "      <th>zipcode</th>\n",
              "      <th>sqft_living15</th>\n",
              "      <th>sqft_lot15</th>\n",
              "    </tr>\n",
              "  </thead>\n",
              "  <tbody>\n",
              "    <tr>\n",
              "      <th>price</th>\n",
              "      <td>1.000000</td>\n",
              "      <td>0.240482</td>\n",
              "      <td>0.351898</td>\n",
              "      <td>0.525741</td>\n",
              "      <td>-0.076376</td>\n",
              "      <td>0.219632</td>\n",
              "      <td>0.080447</td>\n",
              "      <td>0.535590</td>\n",
              "      <td>0.399446</td>\n",
              "      <td>0.241738</td>\n",
              "      <td>-0.056643</td>\n",
              "      <td>0.031208</td>\n",
              "      <td>0.459757</td>\n",
              "      <td>-0.084993</td>\n",
              "    </tr>\n",
              "    <tr>\n",
              "      <th>bedrooms</th>\n",
              "      <td>0.240482</td>\n",
              "      <td>1.000000</td>\n",
              "      <td>0.451397</td>\n",
              "      <td>0.608794</td>\n",
              "      <td>0.197087</td>\n",
              "      <td>0.131016</td>\n",
              "      <td>0.023426</td>\n",
              "      <td>0.293360</td>\n",
              "      <td>0.477339</td>\n",
              "      <td>0.255771</td>\n",
              "      <td>0.151101</td>\n",
              "      <td>-0.170408</td>\n",
              "      <td>0.399656</td>\n",
              "      <td>0.185039</td>\n",
              "    </tr>\n",
              "    <tr>\n",
              "      <th>bathrooms</th>\n",
              "      <td>0.351898</td>\n",
              "      <td>0.451397</td>\n",
              "      <td>1.000000</td>\n",
              "      <td>0.673522</td>\n",
              "      <td>-0.071624</td>\n",
              "      <td>0.513234</td>\n",
              "      <td>-0.148754</td>\n",
              "      <td>0.580506</td>\n",
              "      <td>0.590502</td>\n",
              "      <td>0.181044</td>\n",
              "      <td>0.556519</td>\n",
              "      <td>-0.220397</td>\n",
              "      <td>0.499009</td>\n",
              "      <td>-0.076634</td>\n",
              "    </tr>\n",
              "    <tr>\n",
              "      <th>sqft_living</th>\n",
              "      <td>0.525741</td>\n",
              "      <td>0.608794</td>\n",
              "      <td>0.673522</td>\n",
              "      <td>1.000000</td>\n",
              "      <td>0.170916</td>\n",
              "      <td>0.313246</td>\n",
              "      <td>-0.062333</td>\n",
              "      <td>0.624929</td>\n",
              "      <td>0.820780</td>\n",
              "      <td>0.360183</td>\n",
              "      <td>0.314758</td>\n",
              "      <td>-0.196734</td>\n",
              "      <td>0.710310</td>\n",
              "      <td>0.153119</td>\n",
              "    </tr>\n",
              "    <tr>\n",
              "      <th>sqft_lot</th>\n",
              "      <td>-0.076376</td>\n",
              "      <td>0.197087</td>\n",
              "      <td>-0.071624</td>\n",
              "      <td>0.170916</td>\n",
              "      <td>1.000000</td>\n",
              "      <td>-0.398300</td>\n",
              "      <td>0.137912</td>\n",
              "      <td>-0.019901</td>\n",
              "      <td>0.122005</td>\n",
              "      <td>0.091413</td>\n",
              "      <td>-0.076768</td>\n",
              "      <td>-0.246742</td>\n",
              "      <td>0.211233</td>\n",
              "      <td>0.877589</td>\n",
              "    </tr>\n",
              "    <tr>\n",
              "      <th>floors</th>\n",
              "      <td>0.219632</td>\n",
              "      <td>0.131016</td>\n",
              "      <td>0.513234</td>\n",
              "      <td>0.313246</td>\n",
              "      <td>-0.398300</td>\n",
              "      <td>1.000000</td>\n",
              "      <td>-0.286326</td>\n",
              "      <td>0.459502</td>\n",
              "      <td>0.523008</td>\n",
              "      <td>-0.321410</td>\n",
              "      <td>0.513873</td>\n",
              "      <td>-0.059118</td>\n",
              "      <td>0.233917</td>\n",
              "      <td>-0.404227</td>\n",
              "    </tr>\n",
              "    <tr>\n",
              "      <th>condition</th>\n",
              "      <td>0.080447</td>\n",
              "      <td>0.023426</td>\n",
              "      <td>-0.148754</td>\n",
              "      <td>-0.062333</td>\n",
              "      <td>0.137912</td>\n",
              "      <td>-0.286326</td>\n",
              "      <td>1.000000</td>\n",
              "      <td>-0.179981</td>\n",
              "      <td>-0.182266</td>\n",
              "      <td>0.191651</td>\n",
              "      <td>-0.377120</td>\n",
              "      <td>0.002678</td>\n",
              "      <td>-0.112499</td>\n",
              "      <td>0.140645</td>\n",
              "    </tr>\n",
              "    <tr>\n",
              "      <th>grade</th>\n",
              "      <td>0.535590</td>\n",
              "      <td>0.293360</td>\n",
              "      <td>0.580506</td>\n",
              "      <td>0.624929</td>\n",
              "      <td>-0.019901</td>\n",
              "      <td>0.459502</td>\n",
              "      <td>-0.179981</td>\n",
              "      <td>1.000000</td>\n",
              "      <td>0.630046</td>\n",
              "      <td>0.033829</td>\n",
              "      <td>0.470836</td>\n",
              "      <td>-0.183223</td>\n",
              "      <td>0.598915</td>\n",
              "      <td>-0.011633</td>\n",
              "    </tr>\n",
              "    <tr>\n",
              "      <th>sqft_above</th>\n",
              "      <td>0.399446</td>\n",
              "      <td>0.477339</td>\n",
              "      <td>0.590502</td>\n",
              "      <td>0.820780</td>\n",
              "      <td>0.122005</td>\n",
              "      <td>0.523008</td>\n",
              "      <td>-0.182266</td>\n",
              "      <td>0.630046</td>\n",
              "      <td>1.000000</td>\n",
              "      <td>-0.237272</td>\n",
              "      <td>0.449356</td>\n",
              "      <td>-0.283333</td>\n",
              "      <td>0.679684</td>\n",
              "      <td>0.106205</td>\n",
              "    </tr>\n",
              "    <tr>\n",
              "      <th>sqft_basement</th>\n",
              "      <td>0.241738</td>\n",
              "      <td>0.255771</td>\n",
              "      <td>0.181044</td>\n",
              "      <td>0.360183</td>\n",
              "      <td>0.091413</td>\n",
              "      <td>-0.321410</td>\n",
              "      <td>0.191651</td>\n",
              "      <td>0.033829</td>\n",
              "      <td>-0.237272</td>\n",
              "      <td>1.000000</td>\n",
              "      <td>-0.198561</td>\n",
              "      <td>0.128141</td>\n",
              "      <td>0.097965</td>\n",
              "      <td>0.086950</td>\n",
              "    </tr>\n",
              "    <tr>\n",
              "      <th>yr_built</th>\n",
              "      <td>-0.056643</td>\n",
              "      <td>0.151101</td>\n",
              "      <td>0.556519</td>\n",
              "      <td>0.314758</td>\n",
              "      <td>-0.076768</td>\n",
              "      <td>0.513873</td>\n",
              "      <td>-0.377120</td>\n",
              "      <td>0.470836</td>\n",
              "      <td>0.449356</td>\n",
              "      <td>-0.198561</td>\n",
              "      <td>1.000000</td>\n",
              "      <td>-0.351713</td>\n",
              "      <td>0.329910</td>\n",
              "      <td>-0.055767</td>\n",
              "    </tr>\n",
              "    <tr>\n",
              "      <th>zipcode</th>\n",
              "      <td>0.031208</td>\n",
              "      <td>-0.170408</td>\n",
              "      <td>-0.220397</td>\n",
              "      <td>-0.196734</td>\n",
              "      <td>-0.246742</td>\n",
              "      <td>-0.059118</td>\n",
              "      <td>0.002678</td>\n",
              "      <td>-0.183223</td>\n",
              "      <td>-0.283333</td>\n",
              "      <td>0.128141</td>\n",
              "      <td>-0.351713</td>\n",
              "      <td>1.000000</td>\n",
              "      <td>-0.285988</td>\n",
              "      <td>-0.248360</td>\n",
              "    </tr>\n",
              "    <tr>\n",
              "      <th>sqft_living15</th>\n",
              "      <td>0.459757</td>\n",
              "      <td>0.399656</td>\n",
              "      <td>0.499009</td>\n",
              "      <td>0.710310</td>\n",
              "      <td>0.211233</td>\n",
              "      <td>0.233917</td>\n",
              "      <td>-0.112499</td>\n",
              "      <td>0.598915</td>\n",
              "      <td>0.679684</td>\n",
              "      <td>0.097965</td>\n",
              "      <td>0.329910</td>\n",
              "      <td>-0.285988</td>\n",
              "      <td>1.000000</td>\n",
              "      <td>0.229964</td>\n",
              "    </tr>\n",
              "    <tr>\n",
              "      <th>sqft_lot15</th>\n",
              "      <td>-0.084993</td>\n",
              "      <td>0.185039</td>\n",
              "      <td>-0.076634</td>\n",
              "      <td>0.153119</td>\n",
              "      <td>0.877589</td>\n",
              "      <td>-0.404227</td>\n",
              "      <td>0.140645</td>\n",
              "      <td>-0.011633</td>\n",
              "      <td>0.106205</td>\n",
              "      <td>0.086950</td>\n",
              "      <td>-0.055767</td>\n",
              "      <td>-0.248360</td>\n",
              "      <td>0.229964</td>\n",
              "      <td>1.000000</td>\n",
              "    </tr>\n",
              "  </tbody>\n",
              "</table>\n",
              "</div>"
            ],
            "text/plain": [
              "                  price  bedrooms  ...  sqft_living15  sqft_lot15\n",
              "price          1.000000  0.240482  ...       0.459757   -0.084993\n",
              "bedrooms       0.240482  1.000000  ...       0.399656    0.185039\n",
              "bathrooms      0.351898  0.451397  ...       0.499009   -0.076634\n",
              "sqft_living    0.525741  0.608794  ...       0.710310    0.153119\n",
              "sqft_lot      -0.076376  0.197087  ...       0.211233    0.877589\n",
              "floors         0.219632  0.131016  ...       0.233917   -0.404227\n",
              "condition      0.080447  0.023426  ...      -0.112499    0.140645\n",
              "grade          0.535590  0.293360  ...       0.598915   -0.011633\n",
              "sqft_above     0.399446  0.477339  ...       0.679684    0.106205\n",
              "sqft_basement  0.241738  0.255771  ...       0.097965    0.086950\n",
              "yr_built      -0.056643  0.151101  ...       0.329910   -0.055767\n",
              "zipcode        0.031208 -0.170408  ...      -0.285988   -0.248360\n",
              "sqft_living15  0.459757  0.399656  ...       1.000000    0.229964\n",
              "sqft_lot15    -0.084993  0.185039  ...       0.229964    1.000000\n",
              "\n",
              "[14 rows x 14 columns]"
            ]
          },
          "metadata": {
            "tags": []
          },
          "execution_count": 342
        }
      ]
    },
    {
      "cell_type": "code",
      "metadata": {
        "id": "eTL-E47OVmN6",
        "colab": {
          "base_uri": "https://localhost:8080/",
          "height": 959
        },
        "outputId": "c9ac182c-3701-4548-f104-e49b8b531cb1"
      },
      "source": [
        "#Plottting a heatmap to show correlation of different numerical variables\n",
        "sns.heatmap(housing_df.corr(), xticklabels = housing_df.corr().columns, yticklabels = housing_df.corr().columns, annot=True)"
      ],
      "execution_count": null,
      "outputs": [
        {
          "output_type": "execute_result",
          "data": {
            "text/plain": [
              "<matplotlib.axes._subplots.AxesSubplot at 0x7f77650aa0b8>"
            ]
          },
          "metadata": {
            "tags": []
          },
          "execution_count": 343
        },
        {
          "output_type": "display_data",
          "data": {
            "image/png": "[encoded data removed]",
            "text/plain": [
              "<Figure size 1440x1080 with 2 Axes>"
            ]
          },
          "metadata": {
            "tags": []
          }
        }
      ]
    },
    {
      "cell_type": "markdown",
      "metadata": {
        "id": "DBysB3-jPkqU"
      },
      "source": [
        "## Observations\n",
        "Using a threshold of 0.5, we observe that:\n",
        "\n",
        ">1. The price has a high Correlation with the following columns: square foot living, grade with the correlation above 0.5\n",
        ">2. The grade has a high correlation with the number of bathrooms and bedrooms and the Square feet area of living area\n",
        ">3. The number of floors and the number of bathrooms are highly correlated\n",
        ">4. The number of bathrooms, the grade and the Square feet area of living area\n",
        "\n"
      ]
    },
    {
      "cell_type": "markdown",
      "metadata": {
        "id": "qut-KGhmdzUh"
      },
      "source": [
        "## Detecting Multicollinearity"
      ]
    },
    {
      "cell_type": "code",
      "metadata": {
        "id": "pbyN7Hv1cEmc",
        "colab": {
          "base_uri": "https://localhost:8080/",
          "height": 472
        },
        "outputId": "a067da02-a8f7-4701-ca2e-2bfef7b51f56"
      },
      "source": [
        "# Checking for multicollinearity on the independent variables only\n",
        "\n",
        "F = housing_df.drop('price', 1)\n",
        "correlations = F.corr()\n",
        "correlations"
      ],
      "execution_count": null,
      "outputs": [
        {
          "output_type": "execute_result",
          "data": {
            "text/html": [
              "<div>\n",
              "<style scoped>\n",
              "    .dataframe tbody tr th:only-of-type {\n",
              "        vertical-align: middle;\n",
              "    }\n",
              "\n",
              "    .dataframe tbody tr th {\n",
              "        vertical-align: top;\n",
              "    }\n",
              "\n",
              "    .dataframe thead th {\n",
              "        text-align: right;\n",
              "    }\n",
              "</style>\n",
              "<table border=\"1\" class=\"dataframe\">\n",
              "  <thead>\n",
              "    <tr style=\"text-align: right;\">\n",
              "      <th></th>\n",
              "      <th>bedrooms</th>\n",
              "      <th>bathrooms</th>\n",
              "      <th>sqft_living</th>\n",
              "      <th>sqft_lot</th>\n",
              "      <th>floors</th>\n",
              "      <th>condition</th>\n",
              "      <th>grade</th>\n",
              "      <th>sqft_above</th>\n",
              "      <th>sqft_basement</th>\n",
              "      <th>yr_built</th>\n",
              "      <th>zipcode</th>\n",
              "      <th>sqft_living15</th>\n",
              "      <th>sqft_lot15</th>\n",
              "    </tr>\n",
              "  </thead>\n",
              "  <tbody>\n",
              "    <tr>\n",
              "      <th>bedrooms</th>\n",
              "      <td>1.000000</td>\n",
              "      <td>0.451397</td>\n",
              "      <td>0.608794</td>\n",
              "      <td>0.197087</td>\n",
              "      <td>0.131016</td>\n",
              "      <td>0.023426</td>\n",
              "      <td>0.293360</td>\n",
              "      <td>0.477339</td>\n",
              "      <td>0.255771</td>\n",
              "      <td>0.151101</td>\n",
              "      <td>-0.170408</td>\n",
              "      <td>0.399656</td>\n",
              "      <td>0.185039</td>\n",
              "    </tr>\n",
              "    <tr>\n",
              "      <th>bathrooms</th>\n",
              "      <td>0.451397</td>\n",
              "      <td>1.000000</td>\n",
              "      <td>0.673522</td>\n",
              "      <td>-0.071624</td>\n",
              "      <td>0.513234</td>\n",
              "      <td>-0.148754</td>\n",
              "      <td>0.580506</td>\n",
              "      <td>0.590502</td>\n",
              "      <td>0.181044</td>\n",
              "      <td>0.556519</td>\n",
              "      <td>-0.220397</td>\n",
              "      <td>0.499009</td>\n",
              "      <td>-0.076634</td>\n",
              "    </tr>\n",
              "    <tr>\n",
              "      <th>sqft_living</th>\n",
              "      <td>0.608794</td>\n",
              "      <td>0.673522</td>\n",
              "      <td>1.000000</td>\n",
              "      <td>0.170916</td>\n",
              "      <td>0.313246</td>\n",
              "      <td>-0.062333</td>\n",
              "      <td>0.624929</td>\n",
              "      <td>0.820780</td>\n",
              "      <td>0.360183</td>\n",
              "      <td>0.314758</td>\n",
              "      <td>-0.196734</td>\n",
              "      <td>0.710310</td>\n",
              "      <td>0.153119</td>\n",
              "    </tr>\n",
              "    <tr>\n",
              "      <th>sqft_lot</th>\n",
              "      <td>0.197087</td>\n",
              "      <td>-0.071624</td>\n",
              "      <td>0.170916</td>\n",
              "      <td>1.000000</td>\n",
              "      <td>-0.398300</td>\n",
              "      <td>0.137912</td>\n",
              "      <td>-0.019901</td>\n",
              "      <td>0.122005</td>\n",
              "      <td>0.091413</td>\n",
              "      <td>-0.076768</td>\n",
              "      <td>-0.246742</td>\n",
              "      <td>0.211233</td>\n",
              "      <td>0.877589</td>\n",
              "    </tr>\n",
              "    <tr>\n",
              "      <th>floors</th>\n",
              "      <td>0.131016</td>\n",
              "      <td>0.513234</td>\n",
              "      <td>0.313246</td>\n",
              "      <td>-0.398300</td>\n",
              "      <td>1.000000</td>\n",
              "      <td>-0.286326</td>\n",
              "      <td>0.459502</td>\n",
              "      <td>0.523008</td>\n",
              "      <td>-0.321410</td>\n",
              "      <td>0.513873</td>\n",
              "      <td>-0.059118</td>\n",
              "      <td>0.233917</td>\n",
              "      <td>-0.404227</td>\n",
              "    </tr>\n",
              "    <tr>\n",
              "      <th>condition</th>\n",
              "      <td>0.023426</td>\n",
              "      <td>-0.148754</td>\n",
              "      <td>-0.062333</td>\n",
              "      <td>0.137912</td>\n",
              "      <td>-0.286326</td>\n",
              "      <td>1.000000</td>\n",
              "      <td>-0.179981</td>\n",
              "      <td>-0.182266</td>\n",
              "      <td>0.191651</td>\n",
              "      <td>-0.377120</td>\n",
              "      <td>0.002678</td>\n",
              "      <td>-0.112499</td>\n",
              "      <td>0.140645</td>\n",
              "    </tr>\n",
              "    <tr>\n",
              "      <th>grade</th>\n",
              "      <td>0.293360</td>\n",
              "      <td>0.580506</td>\n",
              "      <td>0.624929</td>\n",
              "      <td>-0.019901</td>\n",
              "      <td>0.459502</td>\n",
              "      <td>-0.179981</td>\n",
              "      <td>1.000000</td>\n",
              "      <td>0.630046</td>\n",
              "      <td>0.033829</td>\n",
              "      <td>0.470836</td>\n",
              "      <td>-0.183223</td>\n",
              "      <td>0.598915</td>\n",
              "      <td>-0.011633</td>\n",
              "    </tr>\n",
              "    <tr>\n",
              "      <th>sqft_above</th>\n",
              "      <td>0.477339</td>\n",
              "      <td>0.590502</td>\n",
              "      <td>0.820780</td>\n",
              "      <td>0.122005</td>\n",
              "      <td>0.523008</td>\n",
              "      <td>-0.182266</td>\n",
              "      <td>0.630046</td>\n",
              "      <td>1.000000</td>\n",
              "      <td>-0.237272</td>\n",
              "      <td>0.449356</td>\n",
              "      <td>-0.283333</td>\n",
              "      <td>0.679684</td>\n",
              "      <td>0.106205</td>\n",
              "    </tr>\n",
              "    <tr>\n",
              "      <th>sqft_basement</th>\n",
              "      <td>0.255771</td>\n",
              "      <td>0.181044</td>\n",
              "      <td>0.360183</td>\n",
              "      <td>0.091413</td>\n",
              "      <td>-0.321410</td>\n",
              "      <td>0.191651</td>\n",
              "      <td>0.033829</td>\n",
              "      <td>-0.237272</td>\n",
              "      <td>1.000000</td>\n",
              "      <td>-0.198561</td>\n",
              "      <td>0.128141</td>\n",
              "      <td>0.097965</td>\n",
              "      <td>0.086950</td>\n",
              "    </tr>\n",
              "    <tr>\n",
              "      <th>yr_built</th>\n",
              "      <td>0.151101</td>\n",
              "      <td>0.556519</td>\n",
              "      <td>0.314758</td>\n",
              "      <td>-0.076768</td>\n",
              "      <td>0.513873</td>\n",
              "      <td>-0.377120</td>\n",
              "      <td>0.470836</td>\n",
              "      <td>0.449356</td>\n",
              "      <td>-0.198561</td>\n",
              "      <td>1.000000</td>\n",
              "      <td>-0.351713</td>\n",
              "      <td>0.329910</td>\n",
              "      <td>-0.055767</td>\n",
              "    </tr>\n",
              "    <tr>\n",
              "      <th>zipcode</th>\n",
              "      <td>-0.170408</td>\n",
              "      <td>-0.220397</td>\n",
              "      <td>-0.196734</td>\n",
              "      <td>-0.246742</td>\n",
              "      <td>-0.059118</td>\n",
              "      <td>0.002678</td>\n",
              "      <td>-0.183223</td>\n",
              "      <td>-0.283333</td>\n",
              "      <td>0.128141</td>\n",
              "      <td>-0.351713</td>\n",
              "      <td>1.000000</td>\n",
              "      <td>-0.285988</td>\n",
              "      <td>-0.248360</td>\n",
              "    </tr>\n",
              "    <tr>\n",
              "      <th>sqft_living15</th>\n",
              "      <td>0.399656</td>\n",
              "      <td>0.499009</td>\n",
              "      <td>0.710310</td>\n",
              "      <td>0.211233</td>\n",
              "      <td>0.233917</td>\n",
              "      <td>-0.112499</td>\n",
              "      <td>0.598915</td>\n",
              "      <td>0.679684</td>\n",
              "      <td>0.097965</td>\n",
              "      <td>0.329910</td>\n",
              "      <td>-0.285988</td>\n",
              "      <td>1.000000</td>\n",
              "      <td>0.229964</td>\n",
              "    </tr>\n",
              "    <tr>\n",
              "      <th>sqft_lot15</th>\n",
              "      <td>0.185039</td>\n",
              "      <td>-0.076634</td>\n",
              "      <td>0.153119</td>\n",
              "      <td>0.877589</td>\n",
              "      <td>-0.404227</td>\n",
              "      <td>0.140645</td>\n",
              "      <td>-0.011633</td>\n",
              "      <td>0.106205</td>\n",
              "      <td>0.086950</td>\n",
              "      <td>-0.055767</td>\n",
              "      <td>-0.248360</td>\n",
              "      <td>0.229964</td>\n",
              "      <td>1.000000</td>\n",
              "    </tr>\n",
              "  </tbody>\n",
              "</table>\n",
              "</div>"
            ],
            "text/plain": [
              "               bedrooms  bathrooms  ...  sqft_living15  sqft_lot15\n",
              "bedrooms       1.000000   0.451397  ...       0.399656    0.185039\n",
              "bathrooms      0.451397   1.000000  ...       0.499009   -0.076634\n",
              "sqft_living    0.608794   0.673522  ...       0.710310    0.153119\n",
              "sqft_lot       0.197087  -0.071624  ...       0.211233    0.877589\n",
              "floors         0.131016   0.513234  ...       0.233917   -0.404227\n",
              "condition      0.023426  -0.148754  ...      -0.112499    0.140645\n",
              "grade          0.293360   0.580506  ...       0.598915   -0.011633\n",
              "sqft_above     0.477339   0.590502  ...       0.679684    0.106205\n",
              "sqft_basement  0.255771   0.181044  ...       0.097965    0.086950\n",
              "yr_built       0.151101   0.556519  ...       0.329910   -0.055767\n",
              "zipcode       -0.170408  -0.220397  ...      -0.285988   -0.248360\n",
              "sqft_living15  0.399656   0.499009  ...       1.000000    0.229964\n",
              "sqft_lot15     0.185039  -0.076634  ...       0.229964    1.000000\n",
              "\n",
              "[13 rows x 13 columns]"
            ]
          },
          "metadata": {
            "tags": []
          },
          "execution_count": 514
        }
      ]
    },
    {
      "cell_type": "markdown",
      "metadata": {
        "id": "qi8vXXrMfGzu"
      },
      "source": [
        "## Computing the Variance Inflation Factor(VIF)\n",
        "> We create a new dataframe with the INVERSE of the correlations above."
      ]
    },
    {
      "cell_type": "code",
      "metadata": {
        "id": "JWAU6kUbfGVh",
        "colab": {
          "base_uri": "https://localhost:8080/",
          "height": 472
        },
        "outputId": "1a2ff8af-9a87-4bdc-d538-3c171f625846"
      },
      "source": [
        "pd.DataFrame(np.linalg.inv(correlations.values), index = correlations.index, columns=correlations.columns)"
      ],
      "execution_count": null,
      "outputs": [
        {
          "output_type": "execute_result",
          "data": {
            "text/html": [
              "<div>\n",
              "<style scoped>\n",
              "    .dataframe tbody tr th:only-of-type {\n",
              "        vertical-align: middle;\n",
              "    }\n",
              "\n",
              "    .dataframe tbody tr th {\n",
              "        vertical-align: top;\n",
              "    }\n",
              "\n",
              "    .dataframe thead th {\n",
              "        text-align: right;\n",
              "    }\n",
              "</style>\n",
              "<table border=\"1\" class=\"dataframe\">\n",
              "  <thead>\n",
              "    <tr style=\"text-align: right;\">\n",
              "      <th></th>\n",
              "      <th>bedrooms</th>\n",
              "      <th>bathrooms</th>\n",
              "      <th>sqft_living</th>\n",
              "      <th>sqft_lot</th>\n",
              "      <th>floors</th>\n",
              "      <th>condition</th>\n",
              "      <th>grade</th>\n",
              "      <th>sqft_above</th>\n",
              "      <th>sqft_basement</th>\n",
              "      <th>yr_built</th>\n",
              "      <th>zipcode</th>\n",
              "      <th>sqft_living15</th>\n",
              "      <th>sqft_lot15</th>\n",
              "    </tr>\n",
              "  </thead>\n",
              "  <tbody>\n",
              "    <tr>\n",
              "      <th>bedrooms</th>\n",
              "      <td>1.687836</td>\n",
              "      <td>-0.322455</td>\n",
              "      <td>-1.461746e+00</td>\n",
              "      <td>-0.067188</td>\n",
              "      <td>0.013406</td>\n",
              "      <td>-0.034370</td>\n",
              "      <td>0.217844</td>\n",
              "      <td>4.272828e-01</td>\n",
              "      <td>2.814541e-01</td>\n",
              "      <td>0.109964</td>\n",
              "      <td>0.078029</td>\n",
              "      <td>0.094230</td>\n",
              "      <td>-0.107062</td>\n",
              "    </tr>\n",
              "    <tr>\n",
              "      <th>bathrooms</th>\n",
              "      <td>-0.322455</td>\n",
              "      <td>2.861101</td>\n",
              "      <td>-5.347391e-01</td>\n",
              "      <td>0.053501</td>\n",
              "      <td>-0.692755</td>\n",
              "      <td>-0.131244</td>\n",
              "      <td>-0.227338</td>\n",
              "      <td>-3.581280e-01</td>\n",
              "      <td>-7.187090e-01</td>\n",
              "      <td>-0.883535</td>\n",
              "      <td>0.103587</td>\n",
              "      <td>-0.055131</td>\n",
              "      <td>0.137129</td>\n",
              "    </tr>\n",
              "    <tr>\n",
              "      <th>sqft_living</th>\n",
              "      <td>-1.460930</td>\n",
              "      <td>-0.531025</td>\n",
              "      <td>6.673875e+13</td>\n",
              "      <td>-0.698027</td>\n",
              "      <td>1.224825</td>\n",
              "      <td>-0.609119</td>\n",
              "      <td>-1.485977</td>\n",
              "      <td>-6.408955e+13</td>\n",
              "      <td>-3.924486e+13</td>\n",
              "      <td>0.126402</td>\n",
              "      <td>-0.205201</td>\n",
              "      <td>-1.156769</td>\n",
              "      <td>1.080596</td>\n",
              "    </tr>\n",
              "    <tr>\n",
              "      <th>sqft_lot</th>\n",
              "      <td>-0.067188</td>\n",
              "      <td>0.053501</td>\n",
              "      <td>-6.896162e-01</td>\n",
              "      <td>4.555009</td>\n",
              "      <td>0.440017</td>\n",
              "      <td>0.020231</td>\n",
              "      <td>0.090251</td>\n",
              "      <td>9.698508e-02</td>\n",
              "      <td>3.053274e-01</td>\n",
              "      <td>0.109546</td>\n",
              "      <td>0.175950</td>\n",
              "      <td>0.148985</td>\n",
              "      <td>-3.720152</td>\n",
              "    </tr>\n",
              "    <tr>\n",
              "      <th>floors</th>\n",
              "      <td>0.013406</td>\n",
              "      <td>-0.692755</td>\n",
              "      <td>1.234698e+00</td>\n",
              "      <td>0.440017</td>\n",
              "      <td>2.650666</td>\n",
              "      <td>0.077957</td>\n",
              "      <td>-0.316545</td>\n",
              "      <td>-1.947947e+00</td>\n",
              "      <td>-1.055790e-01</td>\n",
              "      <td>-0.419044</td>\n",
              "      <td>-0.187321</td>\n",
              "      <td>0.254424</td>\n",
              "      <td>0.514677</td>\n",
              "    </tr>\n",
              "    <tr>\n",
              "      <th>condition</th>\n",
              "      <td>-0.034370</td>\n",
              "      <td>-0.131244</td>\n",
              "      <td>-6.120603e-01</td>\n",
              "      <td>0.020231</td>\n",
              "      <td>0.077957</td>\n",
              "      <td>1.237384</td>\n",
              "      <td>-0.001715</td>\n",
              "      <td>6.067211e-01</td>\n",
              "      <td>2.602279e-01</td>\n",
              "      <td>0.496791</td>\n",
              "      <td>0.165728</td>\n",
              "      <td>0.102844</td>\n",
              "      <td>-0.112170</td>\n",
              "    </tr>\n",
              "    <tr>\n",
              "      <th>grade</th>\n",
              "      <td>0.217844</td>\n",
              "      <td>-0.227338</td>\n",
              "      <td>-1.481462e+00</td>\n",
              "      <td>0.090251</td>\n",
              "      <td>-0.316545</td>\n",
              "      <td>-0.001715</td>\n",
              "      <td>2.205778</td>\n",
              "      <td>6.665618e-01</td>\n",
              "      <td>4.931787e-01</td>\n",
              "      <td>-0.341202</td>\n",
              "      <td>-0.066191</td>\n",
              "      <td>-0.588175</td>\n",
              "      <td>-0.025836</td>\n",
              "    </tr>\n",
              "    <tr>\n",
              "      <th>sqft_above</th>\n",
              "      <td>0.426964</td>\n",
              "      <td>-0.345240</td>\n",
              "      <td>-6.408955e+13</td>\n",
              "      <td>0.102234</td>\n",
              "      <td>-1.945606</td>\n",
              "      <td>0.604307</td>\n",
              "      <td>0.669118</td>\n",
              "      <td>6.154550e+13</td>\n",
              "      <td>3.768703e+13</td>\n",
              "      <td>0.128246</td>\n",
              "      <td>0.196615</td>\n",
              "      <td>-0.370211</td>\n",
              "      <td>-0.953923</td>\n",
              "    </tr>\n",
              "    <tr>\n",
              "      <th>sqft_basement</th>\n",
              "      <td>0.275770</td>\n",
              "      <td>-0.716098</td>\n",
              "      <td>-3.924486e+13</td>\n",
              "      <td>0.309359</td>\n",
              "      <td>-0.102191</td>\n",
              "      <td>0.258535</td>\n",
              "      <td>0.495744</td>\n",
              "      <td>3.768703e+13</td>\n",
              "      <td>2.307743e+13</td>\n",
              "      <td>0.274163</td>\n",
              "      <td>-0.124897</td>\n",
              "      <td>0.150236</td>\n",
              "      <td>-0.504745</td>\n",
              "    </tr>\n",
              "    <tr>\n",
              "      <th>yr_built</th>\n",
              "      <td>0.109964</td>\n",
              "      <td>-0.883535</td>\n",
              "      <td>1.112716e-01</td>\n",
              "      <td>0.109546</td>\n",
              "      <td>-0.419044</td>\n",
              "      <td>0.496791</td>\n",
              "      <td>-0.341202</td>\n",
              "      <td>1.427756e-01</td>\n",
              "      <td>2.830602e-01</td>\n",
              "      <td>2.158491</td>\n",
              "      <td>0.490466</td>\n",
              "      <td>0.012752</td>\n",
              "      <td>-0.244983</td>\n",
              "    </tr>\n",
              "    <tr>\n",
              "      <th>zipcode</th>\n",
              "      <td>0.078029</td>\n",
              "      <td>0.103587</td>\n",
              "      <td>-2.060586e-01</td>\n",
              "      <td>0.175950</td>\n",
              "      <td>-0.187321</td>\n",
              "      <td>0.165728</td>\n",
              "      <td>-0.066191</td>\n",
              "      <td>1.974388e-01</td>\n",
              "      <td>-1.243929e-01</td>\n",
              "      <td>0.490466</td>\n",
              "      <td>1.337842</td>\n",
              "      <td>0.210693</td>\n",
              "      <td>0.071853</td>\n",
              "    </tr>\n",
              "    <tr>\n",
              "      <th>sqft_living15</th>\n",
              "      <td>0.094230</td>\n",
              "      <td>-0.055131</td>\n",
              "      <td>-1.153507e+00</td>\n",
              "      <td>0.148985</td>\n",
              "      <td>0.254424</td>\n",
              "      <td>0.102844</td>\n",
              "      <td>-0.588175</td>\n",
              "      <td>-3.733428e-01</td>\n",
              "      <td>1.483178e-01</td>\n",
              "      <td>0.012752</td>\n",
              "      <td>0.210693</td>\n",
              "      <td>2.465015</td>\n",
              "      <td>-0.381317</td>\n",
              "    </tr>\n",
              "    <tr>\n",
              "      <th>sqft_lot15</th>\n",
              "      <td>-0.107062</td>\n",
              "      <td>0.137129</td>\n",
              "      <td>1.074218e+00</td>\n",
              "      <td>-3.720152</td>\n",
              "      <td>0.514677</td>\n",
              "      <td>-0.112170</td>\n",
              "      <td>-0.025836</td>\n",
              "      <td>-9.477992e-01</td>\n",
              "      <td>-5.009953e-01</td>\n",
              "      <td>-0.244983</td>\n",
              "      <td>0.071853</td>\n",
              "      <td>-0.381317</td>\n",
              "      <td>4.590219</td>\n",
              "    </tr>\n",
              "  </tbody>\n",
              "</table>\n",
              "</div>"
            ],
            "text/plain": [
              "               bedrooms  bathrooms  ...  sqft_living15  sqft_lot15\n",
              "bedrooms       1.687836  -0.322455  ...       0.094230   -0.107062\n",
              "bathrooms     -0.322455   2.861101  ...      -0.055131    0.137129\n",
              "sqft_living   -1.460930  -0.531025  ...      -1.156769    1.080596\n",
              "sqft_lot      -0.067188   0.053501  ...       0.148985   -3.720152\n",
              "floors         0.013406  -0.692755  ...       0.254424    0.514677\n",
              "condition     -0.034370  -0.131244  ...       0.102844   -0.112170\n",
              "grade          0.217844  -0.227338  ...      -0.588175   -0.025836\n",
              "sqft_above     0.426964  -0.345240  ...      -0.370211   -0.953923\n",
              "sqft_basement  0.275770  -0.716098  ...       0.150236   -0.504745\n",
              "yr_built       0.109964  -0.883535  ...       0.012752   -0.244983\n",
              "zipcode        0.078029   0.103587  ...       0.210693    0.071853\n",
              "sqft_living15  0.094230  -0.055131  ...       2.465015   -0.381317\n",
              "sqft_lot15    -0.107062   0.137129  ...      -0.381317    4.590219\n",
              "\n",
              "[13 rows x 13 columns]"
            ]
          },
          "metadata": {
            "tags": []
          },
          "execution_count": 515
        }
      ]
    },
    {
      "cell_type": "markdown",
      "metadata": {
        "id": "K1ylysG-hu2h"
      },
      "source": [
        "> From this we observe that sqft_living, sqft_above have a VIF factor above 5. So, I'll remove the sqft_living and sqft_above features and see how they affect our accuracy, compared to accuracy when we leave them in.\n"
      ]
    },
    {
      "cell_type": "code",
      "metadata": {
        "colab": {
          "base_uri": "https://localhost:8080/"
        },
        "id": "icD-v7xrnndj",
        "outputId": "f76e2f63-08b9-450c-e64a-45081d0a8b2d"
      },
      "source": [
        "# This is the version that excludes the 2 variables\n",
        "\n",
        "# Subsetting the data\n",
        "X = housing_df[['bedrooms', 'bathrooms', 'sqft_lot', 'floors',\n",
        "       'condition', 'grade', 'sqft_basement', 'yr_built',\n",
        "        'sqft_living15', 'sqft_lot15']]\n",
        "y = housing_df['price']\n",
        "\n",
        "y_pred = regressor.predict(X_test)\n",
        "\n",
        "# Dividing our data into training and test sets\n",
        "# ---\n",
        "# \n",
        "from sklearn.model_selection import train_test_split\n",
        "X_train, X_test, y_train, y_test = train_test_split(X, y, test_size=0.2, random_state=10)\n",
        "\n",
        "# Training the Algorithm\n",
        "from sklearn.linear_model import LinearRegression\n",
        "regressor = LinearRegression()\n",
        "regressor.fit(X_train, y_train)\n",
        "\n",
        "# coefficients for our test set attributes. \n",
        "\n",
        "coeff_df = pd.DataFrame(regressor.coef_, X.columns, columns=['Coefficient'])\n",
        "coeff_df\n",
        "\n",
        "# Making Predictions\n",
        "# \n",
        "from sklearn.metrics import r2_score\n",
        "from sklearn import metrics\n",
        "\n",
        "y_pred = regressor.predict(X_test)\n",
        "\n",
        "print(\"For the model excluding both sqft_living and sqft_above:\")\n",
        "print(\"         The R2 score is:\", r2_score(y_test, y_pred))\n",
        "print('         Root Mean Squared Error:', np.sqrt(metrics.mean_squared_error(y_test, y_pred)))\n"
      ],
      "execution_count": null,
      "outputs": [
        {
          "output_type": "stream",
          "text": [
            "For the model excluding both sqft_living and sqft_above:\n",
            "         The R2 score is: 0.5151109915656631\n",
            "         Root Mean Squared Error: 132393.44764778885\n"
          ],
          "name": "stdout"
        }
      ]
    },
    {
      "cell_type": "markdown",
      "metadata": {
        "id": "eZHwxpFZGrN5"
      },
      "source": [
        "The predicted values are a bit off. The 2 features that the VIF function recommended for dropping are the key indicators for square footage, so we cannot possibly make predictions without them. This proves that. \n",
        "\n",
        "Let's try it with just the _sqft_above_ feature, which has a lower correlation index compared to _sqft_living_. Modifications are made by adding and subtracting features from X and y above."
      ]
    },
    {
      "cell_type": "code",
      "metadata": {
        "id": "uDiyaxkwH6ew",
        "colab": {
          "base_uri": "https://localhost:8080/"
        },
        "outputId": "b1312733-f58c-48e6-95e4-451d3853d4f8"
      },
      "source": [
        "# This is the version that includes sqft_above ONLY\n",
        "\n",
        "# Subsetting the data\n",
        "X = housing_df[['bedrooms', 'bathrooms', 'sqft_above', 'sqft_lot', 'floors',\n",
        "       'condition', 'grade', 'sqft_basement', 'yr_built',\n",
        "        'sqft_living15', 'sqft_lot15']]\n",
        "y = housing_df['price']\n",
        "\n",
        "y_pred = regressor.predict(X_test)\n",
        "\n",
        "# Dividing our data into training and test sets\n",
        "# ---\n",
        "# \n",
        "from sklearn.model_selection import train_test_split\n",
        "X_train, X_test, y_train, y_test = train_test_split(X, y, test_size=0.2, random_state=10)\n",
        "\n",
        "# Training the Algorithm\n",
        "from sklearn.linear_model import LinearRegression\n",
        "regressor = LinearRegression()\n",
        "regressor.fit(X_train, y_train)\n",
        "\n",
        "# coefficients for our test set attributes. \n",
        "\n",
        "coeff_df = pd.DataFrame(regressor.coef_, X.columns, columns=['Coefficient'])\n",
        "coeff_df\n",
        "\n",
        "# Making Predictions\n",
        "# \n",
        "y_pred = regressor.predict(X_test)\n",
        "\n",
        "print(\"For the model excluding sqft_living only:\")\n",
        "print(\"        The R2 score is:\", r2_score(y_test, y_pred))\n",
        "print('        Root Mean Squared Error:', np.sqrt(metrics.mean_squared_error(y_test, y_pred)))"
      ],
      "execution_count": null,
      "outputs": [
        {
          "output_type": "stream",
          "text": [
            "For the model excluding sqft_living only:\n",
            "        The R2 score is: 0.5241707950185682\n",
            "        Root Mean Squared Error: 131150.77735592556\n"
          ],
          "name": "stdout"
        }
      ]
    },
    {
      "cell_type": "code",
      "metadata": {
        "colab": {
          "base_uri": "https://localhost:8080/"
        },
        "id": "eI9eN8HMlIt3",
        "outputId": "4430f625-280c-4fa9-cf08-53eb9957e419"
      },
      "source": [
        "# This is the version that includes sqft_living ONLY\n",
        "\n",
        "# Subsetting the data\n",
        "X = housing_df[['bedrooms', 'bathrooms', 'sqft_living', 'sqft_lot', 'floors',\n",
        "       'condition', 'grade', 'sqft_basement', 'yr_built',\n",
        "        'sqft_living15', 'sqft_lot15']]\n",
        "y = housing_df['price']\n",
        "\n",
        "y_pred = regressor.predict(X_test)\n",
        "\n",
        "# Dividing our data into training and test sets\n",
        "# ---\n",
        "# \n",
        "from sklearn.model_selection import train_test_split\n",
        "X_train, X_test, y_train, y_test = train_test_split(X, y, test_size=0.2, random_state=10)\n",
        "\n",
        "# Training the Algorithm\n",
        "from sklearn.linear_model import LinearRegression\n",
        "regressor = LinearRegression()\n",
        "regressor.fit(X_train, y_train)\n",
        "\n",
        "# coefficients for our test set attributes. \n",
        "\n",
        "coeff_df = pd.DataFrame(regressor.coef_, X.columns, columns=['Coefficient'])\n",
        "coeff_df\n",
        "\n",
        "# Making Predictions\n",
        "# \n",
        "y_pred = regressor.predict(X_test)\n",
        "\n",
        "print(\"For the model excluding sqft_above only:\")\n",
        "print(\"          The R2 score is:\", r2_score(y_test, y_pred))\n",
        "print('          Root Mean Squared Error:', np.sqrt(metrics.mean_squared_error(y_test, y_pred)))"
      ],
      "execution_count": null,
      "outputs": [
        {
          "output_type": "stream",
          "text": [
            "For the model excluding sqft_above only:\n",
            "          The R2 score is: 0.5241707950185677\n",
            "          Root Mean Squared Error: 131150.77735592565\n"
          ],
          "name": "stdout"
        }
      ]
    },
    {
      "cell_type": "code",
      "metadata": {
        "colab": {
          "base_uri": "https://localhost:8080/"
        },
        "id": "hMqvYWlnmJx0",
        "outputId": "224bffdc-e850-4b5b-cfb6-3a4bd6303da9"
      },
      "source": [
        "# This is the version that includes both sqft_above and sqft_living \n",
        "\n",
        "# Subsetting the data\n",
        "X = housing_df[['bedrooms', 'bathrooms', 'sqft_living', 'sqft_above', 'sqft_lot', 'floors',\n",
        "       'condition', 'grade', 'sqft_basement', 'yr_built',\n",
        "        'sqft_living15', 'sqft_lot15']]\n",
        "y = housing_df['price']\n",
        "\n",
        "y_pred_all = regressor.predict(X_test)\n",
        "\n",
        "# Dividing our data into training and test sets\n",
        "# ---\n",
        "# \n",
        "from sklearn.model_selection import train_test_split\n",
        "X_train_all, X_test_all, y_train_all, y_test_all = train_test_split(X, y, test_size=0.2, random_state=10)\n",
        "\n",
        "# Training the Algorithm\n",
        "from sklearn.linear_model import LinearRegression\n",
        "regressor = LinearRegression()\n",
        "regressor.fit(X_train_all, y_train_all)\n",
        "\n",
        "# coefficients for our test set attributes. \n",
        "\n",
        "coeff_df = pd.DataFrame(regressor.coef_, X.columns, columns=['Coefficient'])\n",
        "coeff_df\n",
        "\n",
        "# Making Predictions\n",
        "# \n",
        "y_pred_all = regressor.predict(X_test_all)\n",
        "\n",
        "print(\"For the model including both sqft_living and sqft_above:\")\n",
        "print(\"           The R2 score is:\", r2_score(y_test, y_pred))\n",
        "print('           Root Mean Squared Error:', np.sqrt(metrics.mean_squared_error(y_test, y_pred)))"
      ],
      "execution_count": null,
      "outputs": [
        {
          "output_type": "stream",
          "text": [
            "For the model including both sqft_living and sqft_above:\n",
            "           The R2 score is: 0.5241707950185677\n",
            "           Root Mean Squared Error: 131150.77735592565\n"
          ],
          "name": "stdout"
        }
      ]
    },
    {
      "cell_type": "markdown",
      "metadata": {
        "id": "3Xek-BU-LTQD"
      },
      "source": [
        "The difference between the R2 scores for the models including or excluding one of the variables have a very small marginal difference. This shows that the 2 variables being multicollinear does not affect the linear model. Thus I'll choose the square foot of the  living area to continue with the analysis henceforth. \n"
      ]
    },
    {
      "cell_type": "markdown",
      "metadata": {
        "id": "yi3xHWqQgkvz"
      },
      "source": [
        "## Residual Plots and Heteroscedasticity Test"
      ]
    },
    {
      "cell_type": "code",
      "metadata": {
        "id": "MgNIgL5Ygye8"
      },
      "source": [
        "# Splitting our data into training and test sets\n",
        "\n",
        "X = housing_df[['bedrooms', 'bathrooms', 'sqft_living', 'sqft_lot', 'floors',\n",
        "       'condition', 'grade', 'sqft_basement', 'yr_built',\n",
        "        'sqft_living15', 'sqft_lot15']].values\n",
        "y = housing_df['price'].values\n",
        "\n",
        "X_train, X_test, y_train, y_test = train_test_split(X, y, test_size=0.25, random_state=0)"
      ],
      "execution_count": null,
      "outputs": []
    },
    {
      "cell_type": "code",
      "metadata": {
        "id": "iquRuPEik3Mr",
        "colab": {
          "base_uri": "https://localhost:8080/"
        },
        "outputId": "15cffc62-14c0-46c0-a4ad-3ec15f6b3e50"
      },
      "source": [
        "# Fitting our training data in our model\n",
        "from sklearn.linear_model import LinearRegression\n",
        "\n",
        "regressor = LinearRegression()\n",
        "regressor.fit(X_train, y_train)"
      ],
      "execution_count": null,
      "outputs": [
        {
          "output_type": "execute_result",
          "data": {
            "text/plain": [
              "LinearRegression(copy_X=True, fit_intercept=True, n_jobs=None, normalize=False)"
            ]
          },
          "metadata": {
            "tags": []
          },
          "execution_count": 517
        }
      ]
    },
    {
      "cell_type": "code",
      "metadata": {
        "id": "zMlvitZVle0C"
      },
      "source": [
        "# This is our prediction for price based on our model\n",
        "y_predict = a = regressor.predict(X_test)\n",
        "\n",
        "# We create the residual by substracting the test value from the predicted value for each row in our dataset\n",
        "\n",
        "residuals = np.subtract(y_predict, y_test)"
      ],
      "execution_count": null,
      "outputs": []
    },
    {
      "cell_type": "code",
      "metadata": {
        "id": "IIpXmR4kmyUj",
        "colab": {
          "base_uri": "https://localhost:8080/",
          "height": 883
        },
        "outputId": "2024a7d9-5035-469d-941f-982b7fbd8310"
      },
      "source": [
        "## Building the residual plot\n",
        "\n",
        "import matplotlib.pyplot as plt\n",
        "\n",
        "plt.figure(figsize = (15,15))\n",
        "plt.scatter(y_predict, residuals, color='midnightblue')\n",
        "plt.ylabel('residual')\n",
        "plt.xlabel('fitted values')\n",
        "plt.axhline(y= residuals.mean(), color='red', linewidth=1)\n",
        "plt.show()"
      ],
      "execution_count": null,
      "outputs": [
        {
          "output_type": "display_data",
          "data": {
            "image/png": "[encoded data removed]",
            "text/plain": [
              "<Figure size 1080x1080 with 1 Axes>"
            ]
          },
          "metadata": {
            "tags": []
          }
        }
      ]
    },
    {
      "cell_type": "markdown",
      "metadata": {
        "id": "Gu6gfQV-aP5M"
      },
      "source": [
        "\n",
        "The residuals are randomly scattered around zero for the entire range of fitted values. When the residuals center on zero, they indicate that the model’s predictions are correct on average. "
      ]
    },
    {
      "cell_type": "markdown",
      "metadata": {
        "id": "cTgEtZdYnRRr"
      },
      "source": [
        "## Barlett's Test of Heteroscedasticity"
      ]
    },
    {
      "cell_type": "code",
      "metadata": {
        "id": "JOO41NAKnQRn",
        "colab": {
          "base_uri": "https://localhost:8080/"
        },
        "outputId": "d95eb203-8391-4b6b-9c20-e1239d97489a"
      },
      "source": [
        "import scipy as sp\n",
        "\n",
        "test_result, p_value = sp.stats.bartlett(y_predict, residuals)\n",
        "\n",
        "# We compute a critical value of the chi squared distribution\n",
        "degree_of_freedom = len(y_predict)-1\n",
        "probability = 1 - p_value\n",
        "\n",
        "critical_value = sp.stats.chi2.ppf(probability, degree_of_freedom)\n",
        "print(\"The critical value is:\", critical_value)\n",
        "\n",
        "# If the test_result is greater than the critical value, then\n",
        "# this would mean that there are patterns to the variance of the data\n",
        "\n",
        "# Otherwise, we can identify no patterns, and we accept that \n",
        "# the variance is homogeneous across our data\n",
        "\n",
        "if (test_result > critical_value):\n",
        "  print('the variances are unequal, and the model should be reassessed.')\n",
        "else:\n",
        "  print('The variances are homogeneous.')"
      ],
      "execution_count": null,
      "outputs": [
        {
          "output_type": "stream",
          "text": [
            "The critical value is: 4434.1150227222215\n",
            "The variances are homogeneous.\n"
          ],
          "name": "stdout"
        }
      ]
    },
    {
      "cell_type": "code",
      "metadata": {
        "colab": {
          "base_uri": "https://localhost:8080/"
        },
        "id": "70wURQAQzMx1",
        "outputId": "3178f3e9-c7ad-486a-e9e5-f84300d735ff"
      },
      "source": [
        "# This is our prediction for price based on our model\n",
        "y_predict = regressor.predict(X_test)\n",
        "\n",
        "# The R2 score and RMSE for the linear model is \n",
        "\n",
        "print('Root Mean Squared Error:', np.sqrt(metrics.mean_squared_error(y_test, y_predict)))\n",
        "\n",
        "from sklearn.metrics import r2_score\n",
        "\n",
        "linear_R2 = a = r2_score(y_test, y_predict)\n",
        "print(\"The R2 score for the linear model is:\", linear_R2)"
      ],
      "execution_count": null,
      "outputs": [
        {
          "output_type": "stream",
          "text": [
            "Root Mean Squared Error: 130705.56995099802\n",
            "The R2 score for the linear model is: 0.5236251614318701\n"
          ],
          "name": "stdout"
        }
      ]
    },
    {
      "cell_type": "markdown",
      "metadata": {
        "id": "vTbdjSrhVIiT"
      },
      "source": [
        "## 7. Building various regression models"
      ]
    },
    {
      "cell_type": "markdown",
      "metadata": {
        "id": "GLYZ030iYfgL"
      },
      "source": [
        "# Quantile Regression"
      ]
    },
    {
      "cell_type": "code",
      "metadata": {
        "id": "ad-Zc93zkXII"
      },
      "source": [
        "# Splitting our data into training and test sets\n",
        "\n",
        "X = housing_df[['bedrooms', 'bathrooms', 'sqft_living', 'sqft_lot', 'floors',\n",
        "       'condition', 'grade', 'sqft_basement', 'yr_built',\n",
        "        'sqft_living15', 'sqft_lot15']].values\n",
        "y = housing_df['price'].values\n",
        "X_train, X_test, y_train, y_test = train_test_split(X, y, test_size=0.25, random_state=0)"
      ],
      "execution_count": null,
      "outputs": []
    },
    {
      "cell_type": "code",
      "metadata": {
        "colab": {
          "base_uri": "https://localhost:8080/"
        },
        "id": "QEZGctBdkS9X",
        "outputId": "9ba4ec3e-a02c-4c89-d07f-4553d7a51fb1"
      },
      "source": [
        "# Finding the regression coefficients for the conditioned median, 0.5 quantile\n",
        "\n",
        "import statsmodels.formula.api as smf\n",
        "mod = smf.quantreg('y ~ X', housing_df)\n",
        "res = mod.fit(q=.5)\n",
        "res\n",
        "# Then print out the summary of our model\n",
        "#\n",
        "print(res.summary())"
      ],
      "execution_count": null,
      "outputs": [
        {
          "output_type": "stream",
          "text": [
            "                         QuantReg Regression Results                          \n",
            "==============================================================================\n",
            "Dep. Variable:                      y   Pseudo R-squared:               0.3258\n",
            "Model:                       QuantReg   Bandwidth:                   2.328e+04\n",
            "Method:                 Least Squares   Sparsity:                    3.136e+05\n",
            "Date:                Sat, 21 Nov 2020   No. Observations:                16612\n",
            "Time:                        21:44:28   Df Residuals:                    16600\n",
            "                                        Df Model:                           11\n",
            "==============================================================================\n",
            "                 coef    std err          t      P>|t|      [0.025      0.975]\n",
            "------------------------------------------------------------------------------\n",
            "Intercept   4.975e+06   1.11e+05     44.672      0.000    4.76e+06    5.19e+06\n",
            "X[0]       -1.664e+04   2035.915     -8.173      0.000   -2.06e+04   -1.26e+04\n",
            "X[1]        1.761e+04   3166.017      5.564      0.000    1.14e+04    2.38e+04\n",
            "X[2]          68.4750      4.132     16.572      0.000      60.376      76.574\n",
            "X[3]          -4.4227      0.765     -5.781      0.000      -5.922      -2.923\n",
            "X[4]        2.611e+04   3621.507      7.209      0.000     1.9e+04    3.32e+04\n",
            "X[5]        2.125e+04   2081.108     10.212      0.000    1.72e+04    2.53e+04\n",
            "X[6]        1.069e+05   2224.030     48.072      0.000    1.03e+05    1.11e+05\n",
            "X[7]          36.3049      4.499      8.070      0.000      27.487      45.123\n",
            "X[8]       -2844.6666     57.606    -49.382      0.000   -2957.580   -2731.754\n",
            "X[9]          72.2386      3.684     19.610      0.000      65.018      79.459\n",
            "X[10]         -6.1075      0.864     -7.070      0.000      -7.801      -4.414\n",
            "==============================================================================\n",
            "\n",
            "The condition number is large, 1.03e+06. This might indicate that there are\n",
            "strong multicollinearity or other numerical problems.\n"
          ],
          "name": "stdout"
        }
      ]
    },
    {
      "cell_type": "code",
      "metadata": {
        "colab": {
          "base_uri": "https://localhost:8080/"
        },
        "id": "-a7sanVao5Bv",
        "outputId": "2d9aae7d-42f0-4fbd-ee04-6a92ee27b45c"
      },
      "source": [
        "# This is our prediction for price based on our model\n",
        "y_predict = res.predict()\n",
        "\n",
        "print('Root Mean Squared Error:', np.sqrt(metrics.mean_squared_error(y, y_predict)))\n",
        "quantile_R2 = b = r2_score(y, y_predict)\n",
        "print(\"The R2 score for the elastic model is:\", quantile_R2)"
      ],
      "execution_count": null,
      "outputs": [
        {
          "output_type": "stream",
          "text": [
            "Root Mean Squared Error: 130629.25574820522\n",
            "The R2 score for the elastic model is: 0.525069426145689\n"
          ],
          "name": "stdout"
        }
      ]
    },
    {
      "cell_type": "markdown",
      "metadata": {
        "id": "AdiwHXtJek1k"
      },
      "source": [
        "# Ridge Regression"
      ]
    },
    {
      "cell_type": "code",
      "metadata": {
        "id": "q5-0Peasgn51"
      },
      "source": [
        "# Splitting our data into training and test sets\n",
        "\n",
        "X = housing_df[['bedrooms', 'bathrooms', 'sqft_living', 'sqft_lot', 'floors',\n",
        "       'condition', 'grade', 'sqft_basement', 'yr_built',\n",
        "        'sqft_living15', 'sqft_lot15']].values\n",
        "y = housing_df['price'].values\n",
        "\n",
        "X_train, X_test, y_train, y_test = train_test_split(X, y, test_size=0.25, random_state=0)"
      ],
      "execution_count": null,
      "outputs": []
    },
    {
      "cell_type": "code",
      "metadata": {
        "id": "V84qon4mfi2u"
      },
      "source": [
        "# Splitting the dataset into training and testing sets\n",
        "#\n",
        "scaler = StandardScaler()\n",
        "X = scaler.fit_transform(X)"
      ],
      "execution_count": null,
      "outputs": []
    },
    {
      "cell_type": "code",
      "metadata": {
        "id": "zPso5MXmgDTN"
      },
      "source": [
        "# determining the most appropriate value for the l2 regularization.\n",
        " \n",
        "ridge = Ridge(normalize=True)\n",
        "search = GridSearchCV(estimator=ridge,param_grid={'alpha':np.logspace(-5,2,8)},scoring='neg_mean_squared_error',n_jobs=1,refit=True,cv=10)"
      ],
      "execution_count": null,
      "outputs": []
    },
    {
      "cell_type": "code",
      "metadata": {
        "id": "hGMEkqoxgI74",
        "colab": {
          "base_uri": "https://localhost:8080/"
        },
        "outputId": "2e3cf6dc-ee1f-45f2-d287-8e603df45cea"
      },
      "source": [
        "# We now use the .fit function to run the model and then use the .best_params_ and\n",
        "#  .best_scores_ function to determine the models strength. \n",
        "# \n",
        "search.fit(X_train,y_train)\n",
        "search.best_params_"
      ],
      "execution_count": null,
      "outputs": [
        {
          "output_type": "execute_result",
          "data": {
            "text/plain": [
              "{'alpha': 0.001}"
            ]
          },
          "metadata": {
            "tags": []
          },
          "execution_count": 528
        }
      ]
    },
    {
      "cell_type": "code",
      "metadata": {
        "id": "ShWuslSsgmlA",
        "colab": {
          "base_uri": "https://localhost:8080/"
        },
        "outputId": "a1d3dfa8-223d-4ec8-e86c-9337c326db3b"
      },
      "source": [
        "# We can confirm this by fitting our model with the ridge information and finding the mean squared error below\n",
        "#\n",
        "ridge = Ridge(normalize=True,alpha=0.001)\n",
        "ridge.fit(X_train,y_train)\n",
        "y_pred = ridge.predict(X_test)\n",
        "\n",
        "\n",
        "print('Ridge model Root Mean Squared Error:', np.sqrt(metrics.mean_squared_error(y_test, y_pred)))\n",
        "\n",
        "# Making predictions & checking accuracy using R2 score\n",
        "c = r2_score(y_test, y_pred)\n",
        "print(\"The R2 score for the ridge model is:\", c)\n"
      ],
      "execution_count": null,
      "outputs": [
        {
          "output_type": "stream",
          "text": [
            "Ridge model Root Mean Squared Error: 130700.91945696305\n",
            "The R2 score for the ridge model is: 0.5236590595883833\n"
          ],
          "name": "stdout"
        }
      ]
    },
    {
      "cell_type": "markdown",
      "metadata": {
        "id": "n0ismM2jveZ8"
      },
      "source": [
        "# Lasso Regression"
      ]
    },
    {
      "cell_type": "code",
      "metadata": {
        "id": "V8styP69hex7"
      },
      "source": [
        "# Splitting our data into training and test sets\n",
        "\n",
        "X = housing_df[['bedrooms', 'bathrooms', 'sqft_living', 'sqft_lot', 'floors',\n",
        "       'condition', 'grade', 'sqft_basement', 'yr_built',\n",
        "        'sqft_living15', 'sqft_lot15']].values\n",
        "y = housing_df['price'].values\n",
        "\n",
        "X_train, X_test, y_train, y_test = train_test_split(X, y, test_size=0.25, random_state=0)"
      ],
      "execution_count": null,
      "outputs": []
    },
    {
      "cell_type": "code",
      "metadata": {
        "id": "kBQ8ASwdLviw"
      },
      "source": [
        "# Creating lasso object\n",
        "# \n",
        "lasso = linear_model.Lasso() \n",
        "\n",
        "parameters = {'alpha': np.concatenate((np.arange(0.1,2,0.1), np.arange(2, 5, 0.5), np.arange(5, 25, 1)))}\n",
        "\n",
        "lasso = linear_model.Lasso() \n",
        "gridlasso = GridSearchCV(lasso, parameters, scoring ='r2') \n"
      ],
      "execution_count": null,
      "outputs": []
    },
    {
      "cell_type": "code",
      "metadata": {
        "colab": {
          "base_uri": "https://localhost:8080/"
        },
        "id": "J7PC55VPMbGv",
        "outputId": "1f0aab63-80f0-4652-9741-a3fbfef0b948"
      },
      "source": [
        "# Fitting models and getting RMSE\n",
        "\n",
        "gridlasso.fit(X_train, y_train) \n",
        "y_pred = gridlasso.predict(X_test)\n",
        "d = r2_score(y_test,y_pred)\n",
        "print(\"The RMSE for the lasso model:\", np.sqrt(metrics.mean_squared_error(y_test, y_pred)))\n",
        "print(\"The R2 score for the lasso model is:\",d)"
      ],
      "execution_count": null,
      "outputs": [
        {
          "output_type": "stream",
          "text": [
            "The RMSE for the lasso model: 130705.91921936342\n",
            "The R2 score for the lasso model is: 0.5236226155130764\n"
          ],
          "name": "stdout"
        }
      ]
    },
    {
      "cell_type": "markdown",
      "metadata": {
        "id": "4ImNilNuwSVM"
      },
      "source": [
        "# Elastic Net Regression"
      ]
    },
    {
      "cell_type": "code",
      "metadata": {
        "id": "izdFDP0SiEvy"
      },
      "source": [
        "# Splitting our data into training and test sets\n",
        "\n",
        "X = housing_df[['bedrooms', 'bathrooms', 'sqft_living', 'sqft_lot', 'floors',\n",
        "       'condition', 'grade', 'sqft_basement', 'yr_built',\n",
        "        'sqft_living15', 'sqft_lot15']].values\n",
        "y = housing_df['price'].values\n",
        "\n",
        "X_train, X_test, y_train, y_test = train_test_split(X, y, test_size=0.25, random_state=0)"
      ],
      "execution_count": null,
      "outputs": []
    },
    {
      "cell_type": "code",
      "metadata": {
        "id": "slBa3TuPsQ5A"
      },
      "source": [
        "# Normalizing the data and creating our grid.\n",
        "# \n",
        "from sklearn.model_selection import GridSearchCV\n",
        "from sklearn.linear_model import ElasticNet\n",
        "\n",
        "elastic=ElasticNet(normalize=True)\n",
        "search=GridSearchCV(estimator=elastic,param_grid={'alpha':np.logspace(-5,2,8),'l1_ratio':[.2,.4,.6,.8]},scoring='neg_mean_squared_error',n_jobs=1,refit=True,cv=10)"
      ],
      "execution_count": null,
      "outputs": []
    },
    {
      "cell_type": "code",
      "metadata": {
        "colab": {
          "base_uri": "https://localhost:8080/"
        },
        "id": "kqks7bc9iqO3",
        "outputId": "b286cff2-e903-4abb-a294-65740d592c18"
      },
      "source": [
        "# We now use the .fit function to run the model and then use the .best_params_ and\n",
        "#  .best_scores_ function to determine the models strength. \n",
        "# \n",
        "search.fit(X_train,y_train)\n",
        "search.best_params_"
      ],
      "execution_count": null,
      "outputs": [
        {
          "output_type": "execute_result",
          "data": {
            "text/plain": [
              "{'alpha': 1e-05, 'l1_ratio': 0.8}"
            ]
          },
          "metadata": {
            "tags": []
          },
          "execution_count": 535
        }
      ]
    },
    {
      "cell_type": "code",
      "metadata": {
        "id": "QUZhk7qaweaq",
        "colab": {
          "base_uri": "https://localhost:8080/"
        },
        "outputId": "1ec148cd-9113-462b-87a9-402c3a0be068"
      },
      "source": [
        "# Fitting the model\n",
        "\n",
        "elastic=ElasticNet(normalize=True,alpha=0.00001,l1_ratio=0.8)\n",
        "elastic.fit(X_train, y_train)\n",
        "\n",
        "# Making predictions\n",
        "#\n",
        "y_pred = elastic.predict(X_test)\n",
        "e = r2_score(y_test,y_pred)\n",
        "\n",
        "# getting RMSE & R2 score\n",
        "print(\"The RMSE for the Elastic model:\", np.sqrt(metrics.mean_squared_error(y_test, y_pred)))\n",
        "print(\"The R2 score for the elastic model is:\", e)"
      ],
      "execution_count": null,
      "outputs": [
        {
          "output_type": "stream",
          "text": [
            "The RMSE for the Elastic model: 130658.71113640377\n",
            "The R2 score for the elastic model is: 0.5239666672894863\n"
          ],
          "name": "stdout"
        }
      ]
    },
    {
      "cell_type": "code",
      "metadata": {
        "id": "j3x3SXZ4XT_L",
        "colab": {
          "base_uri": "https://localhost:8080/"
        },
        "outputId": "f217061f-9c41-41a7-a3c1-6334eb15b49f"
      },
      "source": [
        "# Reviewing the Solution \n",
        "# Models vs r2 score.\n",
        "models = ['multi-linear', 'quantile', 'ridge', 'lasso', 'elastic']\n",
        "r2_scores = [a,b,c,d,e]\n",
        "model_results = pd.DataFrame({'Regresion models': models, 'r2_scores': r2_scores})\n",
        "print(model_results)\n",
        "print(\"**************\")\n",
        "print(\"The mean r2 scores is:\", model_results.mean())\n",
        "#model_results.sort_values(by = 'r2_scores',axis=0,ascending=False)"
      ],
      "execution_count": null,
      "outputs": [
        {
          "output_type": "stream",
          "text": [
            "  Regresion models  r2_scores\n",
            "0     multi-linear   0.523625\n",
            "1         quantile   0.525069\n",
            "2            ridge   0.523659\n",
            "3            lasso   0.523623\n",
            "4          elastic   0.523967\n",
            "**************\n",
            "The mean r2 scores is: r2_scores    0.523989\n",
            "dtype: float64\n"
          ],
          "name": "stdout"
        }
      ]
    },
    {
      "cell_type": "markdown",
      "metadata": {
        "id": "SRLESNfciCwK"
      },
      "source": [
        "# Conclusion\n",
        "\n",
        "After a thorough and exhaustive analysis using the 5 regression models above, we see that the difference between the different regression models accuracy scores using r2 scores metric is quite small and there is no clear cut difference to distinguish one from the other in terms of perfomance.\n",
        "\n",
        "\n",
        "---\n",
        "An average accuracy of 52.399% is not really satisfactory. Thus, further analysis of data needs be done to further improve the model."
      ]
    },
    {
      "cell_type": "markdown",
      "metadata": {
        "id": "lQ2G4ZPDVOXE"
      },
      "source": [
        "## 8. Challenging the solution"
      ]
    },
    {
      "cell_type": "markdown",
      "metadata": {
        "id": "jWVGKGuiYMWg"
      },
      "source": [
        "> Our average r2_scores = 0.523989. This translates to 52.399% accuracy which is not the best that we can have to come up with a solid marketing and pricing for our client. \n",
        "\n",
        "---\n",
        "\n",
        "\n",
        "We need to consider other models to get a higher accuracy that will be more informative and have stronger evidence to present to the client.\n",
        "\n",
        "\n"
      ]
    },
    {
      "cell_type": "markdown",
      "metadata": {
        "id": "xrmHVMVsVS--"
      },
      "source": [
        "## 9. Follow up questions"
      ]
    },
    {
      "cell_type": "markdown",
      "metadata": {
        "id": "pth2qSWhuBIy"
      },
      "source": [
        "> At this point, we can refine our question or collect new data, all in an iterative process to get at the truth.\n",
        "\n"
      ]
    },
    {
      "cell_type": "markdown",
      "metadata": {
        "id": "HPQviDmNtta8"
      },
      "source": [
        "### a). Did we have the right data? YES"
      ]
    },
    {
      "cell_type": "markdown",
      "metadata": {
        "id": "qjFHK1CKty7o"
      },
      "source": [
        "### b). Do we need other data to answer our question? NO"
      ]
    },
    {
      "cell_type": "markdown",
      "metadata": {
        "id": "HSsicSdvt4Zs"
      },
      "source": [
        "### c). Did we have the right question? YES"
      ]
    }
  ]
}